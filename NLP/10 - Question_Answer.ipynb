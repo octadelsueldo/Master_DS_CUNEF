{
 "cells": [
  {
   "cell_type": "markdown",
   "metadata": {},
   "source": [
    "# Importación de librerías de transformers de huggingface"
   ]
  },
  {
   "cell_type": "code",
   "execution_count": 1,
   "metadata": {
    "scrolled": true
   },
   "outputs": [],
   "source": [
    "from transformers import pipeline\n",
    "question_answerer = pipeline ('question-answering')"
   ]
  },
  {
   "cell_type": "markdown",
   "metadata": {},
   "source": [
    "## Pipeline de Question & Answer\n",
    "\n",
    "Se introduce como parámetro en <b>context</b> el texto que contiene la respuesta, y en <b>question</b> la pregunta a realizar"
   ]
  },
  {
   "cell_type": "code",
   "execution_count": 2,
   "metadata": {},
   "outputs": [
    {
     "data": {
      "text/plain": [
       "{'score': 0.20772509276866913,\n",
       " 'start': 692,\n",
       " 'end': 761,\n",
       " 'answer': 'Prague Castle and the city Old                Town and adjacent areas'}"
      ]
     },
     "execution_count": 2,
     "metadata": {},
     "output_type": "execute_result"
    }
   ],
   "source": [
    "question_answerer({'context' : 'Charles Bridge is a historic bridge that crosses the Vltava\\\n",
    "                river in Prague , Czech Republic . Its construction started in 1357 under the\\\n",
    "                auspices of King Charles IV, and finished in the beginning of the 15th century.\\\n",
    "                The bridge replaced the old Judith Bridge built 1158 -- 1172 that had been badly\\\n",
    "                damaged by a flood in 1342. This new bridge was originally called Stone Bridge\\\n",
    "                ( Kamenný most ) or Prague Bridge ( Pražský most ) but has been  Charles Bridge\\\n",
    "                since 1870 . As the only means of crossing the river Vltava until 1841, Charles\\\n",
    "                Bridge was the most important connection between Prague Castle and the city Old\\\n",
    "                Town and adjacent areas . This solid - land connection made Prague important as\\\n",
    "                a trade route between Eastern and Western Europe. The bridge is 621 metres\\\n",
    "                ( 2,037 ft ) long and nearly 10 metres ( 33 ft ) wide , following the example \\\n",
    "                of  the Stone Bridge in Regensburg , it was built as a bow bridge with 16 arches\\\n",
    "                shielded by ice guards . It is protected by three bridge towers , two of them on\\\n",
    "                the Lesser Quarter side and the third one on the Old Town side.',\n",
    "                'question' : 'What does it connect?'})"
   ]
  },
  {
   "cell_type": "markdown",
   "metadata": {},
   "source": [
    "## Ejemplo en español"
   ]
  },
  {
   "cell_type": "code",
   "execution_count": 3,
   "metadata": {},
   "outputs": [
    {
     "data": {
      "text/plain": [
       "{'score': 0.04566795751452446,\n",
       " 'start': 396,\n",
       " 'end': 402,\n",
       " 'answer': '1\\u200b Son'}"
      ]
     },
     "execution_count": 3,
     "metadata": {},
     "output_type": "execute_result"
    }
   ],
   "source": [
    "question_answerer({'context' : 'Los Juegos Olímpicos de Barcelona 1992, oficialmente conocidos\\\n",
    "                como los Juegos de la XXV Olimpiada, fueron un evento multideportivo\\\n",
    "                internacionalcelebrado en la ciudad de Barcelona, España, entre el 25 de julio\\\n",
    "                y el 9 de agosto de 1992. En esta edición participaron 9356 atletas —6652\\\n",
    "                hombres y 2704 mujeres— de 169 comités nacionales, 1​ Son los segundos Juegos\\\n",
    "                Olímpicos que se han realizado en un país hispanohablante después de México\\\n",
    "                1968.',\n",
    "                'question' : '¿Cuando se disputaron los Juego Olímpicos de México?'})"
   ]
  },
  {
   "cell_type": "code",
   "execution_count": null,
   "metadata": {},
   "outputs": [],
   "source": []
  }
 ],
 "metadata": {
  "celltoolbar": "Raw Cell Format",
  "kernelspec": {
   "display_name": "Python 3",
   "language": "python",
   "name": "python3"
  },
  "language_info": {
   "codemirror_mode": {
    "name": "ipython",
    "version": 3
   },
   "file_extension": ".py",
   "mimetype": "text/x-python",
   "name": "python",
   "nbconvert_exporter": "python",
   "pygments_lexer": "ipython3",
   "version": "3.9.5"
  },
  "toc": {
   "base_numbering": 1,
   "nav_menu": {},
   "number_sections": true,
   "sideBar": true,
   "skip_h1_title": false,
   "title_cell": "Table of Contents",
   "title_sidebar": "Contents",
   "toc_cell": false,
   "toc_position": {},
   "toc_section_display": true,
   "toc_window_display": false
  }
 },
 "nbformat": 4,
 "nbformat_minor": 4
}
