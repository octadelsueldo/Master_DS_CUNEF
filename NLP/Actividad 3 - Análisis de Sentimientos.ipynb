{
 "cells": [
  {
   "cell_type": "markdown",
   "id": "c7a6d4c4",
   "metadata": {},
   "source": [
    "### 2.2 Notebook para Análisis de Sentimientos"
   ]
  },
  {
   "cell_type": "code",
   "execution_count": null,
   "id": "9b5afe1a",
   "metadata": {},
   "outputs": [],
   "source": [
    "from transformers import pipeline\n",
    "sentimiento=pipeline(\"sentiment-analysis\")"
   ]
  },
  {
   "cell_type": "markdown",
   "id": "05ff7c89",
   "metadata": {},
   "source": [
    "2.3. Utilice el notebook de análisis de sentimientos para analizar frases en inglés de los siguientes tipos:\n",
    "\n",
    "•Una frase que no tenga opinión, solamente información.\n",
    "\n",
    "•Una frase con una negación de un sentimiento.\n",
    "\n",
    "•Una frase con ironía."
   ]
  },
  {
   "cell_type": "code",
   "execution_count": null,
   "id": "ee6595e4",
   "metadata": {},
   "outputs": [],
   "source": [
    "## Análisis de sentimiento para una frase que no tenga opinión, solamente información.\n",
    "\n",
    "sentimiento(\"Chelsea Beats Manchester City to Win Its Second Champions League Title\")"
   ]
  },
  {
   "cell_type": "code",
   "execution_count": null,
   "id": "3200b254",
   "metadata": {},
   "outputs": [],
   "source": [
    "## Analisis de sentimiento de una frase con una negación \n",
    "\n",
    "sentimiento(\"you can't get away from yourself by moving from one place to another\")"
   ]
  },
  {
   "cell_type": "code",
   "execution_count": null,
   "id": "d568bb53",
   "metadata": {},
   "outputs": [],
   "source": [
    "## Análisis de sentimiento de una frase con ironía\n",
    "\n",
    "sentimiento(\"The police station gets robbed\")"
   ]
  },
  {
   "cell_type": "markdown",
   "id": "07c3aa23",
   "metadata": {},
   "source": [
    "\n",
    "2.4. Dado que la librería transformers es multilingüe realice el mismo trabajo con frases en español"
   ]
  },
  {
   "cell_type": "code",
   "execution_count": null,
   "id": "6b42eba1",
   "metadata": {},
   "outputs": [],
   "source": [
    "## Análisis de sentimiento para una frase que no tenga opinión, solamente información.\n",
    "\n",
    "sentimiento(\"Chelsea vence al Manchester City y gana su segundo título de la Liga de Campeones\")"
   ]
  },
  {
   "cell_type": "code",
   "execution_count": null,
   "id": "9670f17b",
   "metadata": {},
   "outputs": [],
   "source": [
    "## Analisis de sentimiento de una frase con una negación \n",
    "\n",
    "sentimiento(\"no puedes alejarte de ti mismo moviéndote de un lugar a otro\")"
   ]
  },
  {
   "cell_type": "code",
   "execution_count": null,
   "id": "06d367e4",
   "metadata": {},
   "outputs": [],
   "source": [
    "## Análisis de sentimiento de una frase con ironía\n",
    "\n",
    "sentimiento(\"La comisaría fue robada\")"
   ]
  },
  {
   "cell_type": "markdown",
   "id": "bbd25c14",
   "metadata": {},
   "source": [
    "\n",
    "2.5. Comente los resultados obtenidos en los dos puntos anteriores"
   ]
  },
  {
   "cell_type": "markdown",
   "id": "61411439",
   "metadata": {},
   "source": [
    "Me parecio muy curioso como la libreria de transformers clasifico, cuando trabajamos en inglés, como positivo la frase de la victoria del chelsea sobre el manchester city. Al contrario, cuando utilizamos la misma frase traducida al español, la librería la tomo como negativa.\n",
    "\n",
    "Algo similar sucedió en el caso de la frase con una negación donde, en el primer caso, fue clasificada como positiva y cuando trabajamos en español como negativa. \n",
    "\n",
    "Por último, cuando trabajamos con ironía, la clasificación se comportó igual en ambos casos lo cual nos da la pauta de que funciona de forma homogenea con esta tipo de frases."
   ]
  }
 ],
 "metadata": {
  "kernelspec": {
   "display_name": "Python 3",
   "language": "python",
   "name": "python3"
  },
  "language_info": {
   "codemirror_mode": {
    "name": "ipython",
    "version": 3
   },
   "file_extension": ".py",
   "mimetype": "text/x-python",
   "name": "python",
   "nbconvert_exporter": "python",
   "pygments_lexer": "ipython3",
   "version": "3.9.5"
  },
  "toc": {
   "base_numbering": 1,
   "nav_menu": {},
   "number_sections": true,
   "sideBar": true,
   "skip_h1_title": false,
   "title_cell": "Table of Contents",
   "title_sidebar": "Contents",
   "toc_cell": false,
   "toc_position": {},
   "toc_section_display": true,
   "toc_window_display": false
  }
 },
 "nbformat": 4,
 "nbformat_minor": 5
}
