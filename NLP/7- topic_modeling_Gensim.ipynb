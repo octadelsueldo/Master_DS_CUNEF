{
 "cells": [
  {
   "cell_type": "code",
   "execution_count": 1,
   "metadata": {},
   "outputs": [],
   "source": [
    "import spacy\n",
    "spacy.load('en_core_web_md')\n",
    "from spacy.lang.en import English\n",
    "parser = English()\n",
    "\n",
    "def tokenize(text):\n",
    "    lda_tokens = []\n",
    "    tokens = parser(text)\n",
    "    for token in tokens:\n",
    "        if token.orth_.isspace():\n",
    "            continue\n",
    "        elif token.like_url:\n",
    "            lda_tokens.append('URL')\n",
    "        elif token.orth_.startswith('@'):\n",
    "            lda_tokens.append('SCREEN_NAME')\n",
    "        else:\n",
    "            lda_tokens.append(token.lower_)\n",
    "    return lda_tokens"
   ]
  },
  {
   "cell_type": "code",
   "execution_count": 2,
   "metadata": {},
   "outputs": [
    {
     "name": "stderr",
     "output_type": "stream",
     "text": [
      "[nltk_data] Downloading package wordnet to\n",
      "[nltk_data]     /Users/octaviodelsueldo/nltk_data...\n",
      "[nltk_data]   Package wordnet is already up-to-date!\n"
     ]
    },
    {
     "data": {
      "text/plain": [
       "True"
      ]
     },
     "execution_count": 2,
     "metadata": {},
     "output_type": "execute_result"
    }
   ],
   "source": [
    "import nltk\n",
    "nltk.download('wordnet') # tiene relaciones semanticas. Tiene palabras ,etc. Vale solo para ingles."
   ]
  },
  {
   "cell_type": "code",
   "execution_count": 3,
   "metadata": {},
   "outputs": [],
   "source": [
    "from nltk.corpus import wordnet as wn\n",
    "def get_lemma(word):\n",
    "    lemma = wn.morphy(word)\n",
    "    if lemma is None:\n",
    "        return word\n",
    "    else:\n",
    "        return lemma\n",
    "    \n",
    "# from nltk.stem.wordnet import WordNetLemmatizer\n",
    "# def get_lemma2(word):\n",
    "#     return WordNetLemmatizer().lemmatize(word)"
   ]
  },
  {
   "cell_type": "code",
   "execution_count": 4,
   "metadata": {},
   "outputs": [
    {
     "name": "stderr",
     "output_type": "stream",
     "text": [
      "[nltk_data] Downloading package stopwords to\n",
      "[nltk_data]     /Users/octaviodelsueldo/nltk_data...\n",
      "[nltk_data]   Package stopwords is already up-to-date!\n"
     ]
    }
   ],
   "source": [
    "nltk.download('stopwords')\n",
    "en_stop = set(nltk.corpus.stopwords.words('english'))"
   ]
  },
  {
   "cell_type": "code",
   "execution_count": 5,
   "metadata": {},
   "outputs": [],
   "source": [
    "def prepare_text_for_lda(text):\n",
    "    tokens = tokenize(text)\n",
    "    tokens = [token for token in tokens if len(token) > 4]\n",
    "    tokens = [token for token in tokens if token not in en_stop]\n",
    "    tokens = [get_lemma(token) for token in tokens]\n",
    "    return tokens"
   ]
  },
  {
   "cell_type": "code",
   "execution_count": 7,
   "metadata": {},
   "outputs": [
    {
     "name": "stdout",
     "output_type": "stream",
     "text": [
      "['social', 'status', 'analysis', 'palin', 'email', 'network']\n",
      "['partitioning', 'ordering', 'large', 'radiosity', 'computation']\n",
      "['cloudy', 'modular', 'cloud', 'storage', 'system']\n",
      "['comparison', 'frequency', 'domain', 'interpolation', 'implementation', 'transmitter']\n",
      "['investigation', 'partial', 'query', 'proximity', 'search']\n",
      "['uniform', 'resolution', '7-bit', 'flash', 'converter', 'wideband', 'signal', 'conversion']\n",
      "['analysis', 'structure']\n",
      "['journey', 'cystic', 'fibrosis']\n",
      "['multi', 'level', 'conversion', 'circuit', 'multi', 'system']\n",
      "['string', 'haptic', 'workbench']\n",
      "['restructure', 'nest', 'relations', 'partition', 'normal']\n",
      "['improve', 'power', 'delay', 'product', 'circuit', 'using', 'source', 'follower', 'output', 'stage']\n",
      "['indexing', 'multi', 'dimensional', 'uncertain', 'arbitrary', 'probability', 'density', 'function']\n",
      "['physical', 'layer', 'security', 'inter', 'session', 'interference', 'large', 'wireless', 'network']\n",
      "['hybrid', 'stereo', 'camera', 'approach', 'synthesis', 'resolution', 'stereoscopic', 'image', 'sequence']\n",
      "['quasi', 'resonant', 'interconnect', 'power', 'design', 'methodology']\n",
      "['minimum', 'aggregation', 'localize', 'processing', 'statistical', 'inference']\n",
      "['linear', 'current', 'image', 'sensor', 'focal', 'plane', 'spatial', 'image', 'processing']\n",
      "['joint', 'relevance', 'freshness', 'learning', 'clickthroughs', 'search']\n",
      "['efficient', 'decimal', 'adder', 'design', 'quantum', 'cellular', 'automaton']\n",
      "['atlas', 'adaptively', 'form', 'hierarchical', 'library', 'base', 'analog', 'synthesis', 'framework']\n",
      "['toward', 'base', 'multimedia', 'sharing', 'generate', 'contents']\n",
      "['least', 'square', 'base', 'lossless', 'image', 'coding', 'ahead']\n",
      "['telenoid', 'presence', 'android', 'communication']\n",
      "['simple', 'realistic', 'generation']\n",
      "['cross', 'lingual', 'classification']\n",
      "['fourth', 'order', 'audio', 'bandwidth', '87.5-db', 'sigmadelta', 'modulator', 'microphone']\n",
      "['analyze', 'predict', 'viral', 'tweet']\n"
     ]
    }
   ],
   "source": [
    "import random\n",
    "text_data = []\n",
    "with open('dataset.csv') as f:\n",
    "    for line in f:\n",
    "        tokens = prepare_text_for_lda(line)\n",
    "        if random.random() > .99:\n",
    "            print(tokens)\n",
    "            text_data.append(tokens)"
   ]
  },
  {
   "cell_type": "code",
   "execution_count": 8,
   "metadata": {},
   "outputs": [],
   "source": [
    "from gensim import corpora\n",
    "dictionary = corpora.Dictionary(text_data)"
   ]
  },
  {
   "cell_type": "code",
   "execution_count": 9,
   "metadata": {},
   "outputs": [],
   "source": [
    "corpus = [dictionary.doc2bow(text) for text in text_data]"
   ]
  },
  {
   "cell_type": "code",
   "execution_count": 10,
   "metadata": {},
   "outputs": [],
   "source": [
    "import pickle\n",
    "pickle.dump(corpus, open('corpus.pkl', 'wb'))\n",
    "dictionary.save('dictionary.gensim')"
   ]
  },
  {
   "cell_type": "markdown",
   "metadata": {},
   "source": [
    "### Try 5 topics"
   ]
  },
  {
   "cell_type": "code",
   "execution_count": 11,
   "metadata": {},
   "outputs": [],
   "source": [
    "import gensim\n",
    "NUM_TOPICS = 5\n",
    "ldamodel = gensim.models.ldamodel.LdaModel(corpus, num_topics = NUM_TOPICS, id2word=dictionary, passes=15)\n",
    "ldamodel.save('model5.gensim')"
   ]
  },
  {
   "cell_type": "code",
   "execution_count": 12,
   "metadata": {},
   "outputs": [
    {
     "name": "stdout",
     "output_type": "stream",
     "text": [
      "(0, '0.026*\"large\" + 0.026*\"computation\" + 0.026*\"ordering\" + 0.026*\"partitioning\"')\n",
      "(1, '0.036*\"image\" + 0.025*\"base\" + 0.024*\"processing\" + 0.013*\"layer\"')\n",
      "(2, '0.028*\"sigmadelta\" + 0.028*\"order\" + 0.028*\"modulator\" + 0.028*\"87.5-db\"')\n",
      "(3, '0.032*\"multi\" + 0.032*\"search\" + 0.017*\"system\" + 0.017*\"design\"')\n",
      "(4, '0.032*\"resolution\" + 0.017*\"power\" + 0.017*\"analysis\" + 0.017*\"circuit\"')\n"
     ]
    }
   ],
   "source": [
    "topics = ldamodel.print_topics(num_words=4)\n",
    "for topic in topics:\n",
    "    print(topic)"
   ]
  },
  {
   "cell_type": "code",
   "execution_count": 13,
   "metadata": {},
   "outputs": [
    {
     "name": "stdout",
     "output_type": "stream",
     "text": [
      "(0, '0.022*\"image\" + 0.022*\"network\" + 0.022*\"analysis\" + 0.022*\"processing\"')\n",
      "(1, '0.033*\"multi\" + 0.023*\"system\" + 0.013*\"design\" + 0.013*\"resolution\"')\n",
      "(2, '0.030*\"base\" + 0.021*\"power\" + 0.021*\"search\" + 0.012*\"circuit\"')\n"
     ]
    }
   ],
   "source": [
    "ldamodel = gensim.models.ldamodel.LdaModel(corpus, num_topics = 3, id2word=dictionary, passes=15)\n",
    "ldamodel.save('model3.gensim')\n",
    "topics = ldamodel.print_topics(num_words=4)\n",
    "for topic in topics:\n",
    "    print(topic)"
   ]
  },
  {
   "cell_type": "code",
   "execution_count": 14,
   "metadata": {},
   "outputs": [
    {
     "name": "stdout",
     "output_type": "stream",
     "text": [
      "(0, '0.068*\"multi\" + 0.036*\"system\" + 0.036*\"level\" + 0.036*\"viral\"')\n",
      "(1, '0.030*\"analysis\" + 0.030*\"circuit\" + 0.030*\"product\" + 0.030*\"stage\"')\n",
      "(2, '0.041*\"design\" + 0.041*\"cellular\" + 0.041*\"adder\" + 0.041*\"automaton\"')\n",
      "(3, '0.039*\"lossless\" + 0.039*\"coding\" + 0.039*\"least\" + 0.039*\"square\"')\n",
      "(4, '0.041*\"search\" + 0.041*\"power\" + 0.041*\"clickthroughs\" + 0.041*\"joint\"')\n",
      "(5, '0.032*\"resolution\" + 0.032*\"conversion\" + 0.032*\"probability\" + 0.032*\"wideband\"')\n",
      "(6, '0.037*\"large\" + 0.037*\"fourth\" + 0.037*\"order\" + 0.037*\"microphone\"')\n",
      "(7, '0.066*\"image\" + 0.023*\"camera\" + 0.023*\"plane\" + 0.023*\"physical\"')\n",
      "(8, '0.055*\"restructure\" + 0.055*\"normal\" + 0.055*\"partition\" + 0.055*\"relations\"')\n",
      "(9, '0.057*\"base\" + 0.030*\"synthesis\" + 0.030*\"analog\" + 0.030*\"form\"')\n"
     ]
    }
   ],
   "source": [
    "ldamodel = gensim.models.ldamodel.LdaModel(corpus, num_topics = 10, id2word=dictionary, passes=15)\n",
    "ldamodel.save('model10.gensim')\n",
    "topics = ldamodel.print_topics(num_words=4)\n",
    "for topic in topics:\n",
    "    print(topic)"
   ]
  }
 ],
 "metadata": {
  "kernelspec": {
   "display_name": "Python 3",
   "language": "python",
   "name": "python3"
  },
  "language_info": {
   "codemirror_mode": {
    "name": "ipython",
    "version": 3
   },
   "file_extension": ".py",
   "mimetype": "text/x-python",
   "name": "python",
   "nbconvert_exporter": "python",
   "pygments_lexer": "ipython3",
   "version": "3.9.5"
  },
  "toc": {
   "base_numbering": 1,
   "nav_menu": {},
   "number_sections": true,
   "sideBar": true,
   "skip_h1_title": false,
   "title_cell": "Table of Contents",
   "title_sidebar": "Contents",
   "toc_cell": false,
   "toc_position": {},
   "toc_section_display": true,
   "toc_window_display": false
  }
 },
 "nbformat": 4,
 "nbformat_minor": 4
}
