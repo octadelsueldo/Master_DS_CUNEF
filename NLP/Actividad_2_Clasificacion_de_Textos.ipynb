{
 "cells": [
  {
   "cell_type": "markdown",
   "id": "2638cf1a",
   "metadata": {},
   "source": [
    "# ACTIVIDAD 2:\n",
    "PRÁCTICA DE CLASIFICACIÓN DE TEXTOS."
   ]
  },
  {
   "cell_type": "markdown",
   "id": "6a84ef51",
   "metadata": {},
   "source": [
    "## Objetivo"
   ]
  },
  {
   "cell_type": "markdown",
   "id": "f95c93fd",
   "metadata": {},
   "source": [
    "El objetivo de esta práctica es realizar una clasificación de una serie de opiniones sobre un hotel, que están recogidas en el fichero hotel.csv. Este fichero contiene dos columnas. La primera, bajo el título text, contiene las opiniones a clasificar, mientras que la segunda, bajo el título label, contiene la puntuación otorgada. Las opiniones se agrupan según su calificación en un valor 5 y otro valor 3."
   ]
  },
  {
   "cell_type": "markdown",
   "id": "676b509e",
   "metadata": {},
   "source": [
    "## Guion de la actividad"
   ]
  },
  {
   "cell_type": "markdown",
   "id": "daf13de5",
   "metadata": {},
   "source": [
    "1. Lea el contenido del fichero csv en un DataFrame. Se sugiere utilizar la función pandas.read_csv. Atención a la codificación de los datos entrantes.\n"
   ]
  },
  {
   "cell_type": "code",
   "execution_count": 1,
   "id": "83988d03",
   "metadata": {},
   "outputs": [],
   "source": [
    "## Importaciones\n",
    "\n",
    "import pandas as pd\n",
    "import numpy as np\n",
    "import nltk, re, pprint\n",
    "from nltk.stem import SnowballStemmer\n",
    "from nltk.stem import WordNetLemmatizer\n",
    "import re\n",
    "import nltk\n",
    "import matplotlib.pyplot as plt\n",
    "from sklearn.feature_extraction.text import CountVectorizer\n",
    "from sklearn.feature_extraction.text import TfidfTransformer\n",
    "from sklearn.feature_extraction.text import TfidfVectorizer\n",
    "from sklearn.metrics import classification_report\n",
    "from sklearn.svm import LinearSVC\n",
    "from sklearn import svm\n",
    "from sklearn.metrics import confusion_matrix as sk_confusion_matrix\n",
    "from sklearn.metrics import roc_curve, auc\n",
    "from sklearn.metrics import accuracy_score"
   ]
  },
  {
   "cell_type": "code",
   "execution_count": 2,
   "id": "f6fe44f2",
   "metadata": {},
   "outputs": [],
   "source": [
    "data = pd.read_csv(\"../Actividades/hotel.csv\")"
   ]
  },
  {
   "cell_type": "code",
   "execution_count": 3,
   "id": "155deee4",
   "metadata": {},
   "outputs": [
    {
     "data": {
      "text/html": [
       "<div>\n",
       "<style scoped>\n",
       "    .dataframe tbody tr th:only-of-type {\n",
       "        vertical-align: middle;\n",
       "    }\n",
       "\n",
       "    .dataframe tbody tr th {\n",
       "        vertical-align: top;\n",
       "    }\n",
       "\n",
       "    .dataframe thead th {\n",
       "        text-align: right;\n",
       "    }\n",
       "</style>\n",
       "<table border=\"1\" class=\"dataframe\">\n",
       "  <thead>\n",
       "    <tr style=\"text-align: right;\">\n",
       "      <th></th>\n",
       "      <th>text</th>\n",
       "      <th>label</th>\n",
       "    </tr>\n",
       "  </thead>\n",
       "  <tbody>\n",
       "    <tr>\n",
       "      <th>0</th>\n",
       "      <td>Es un gran hotel; el mejor de Asunción. Buenas...</td>\n",
       "      <td>3</td>\n",
       "    </tr>\n",
       "    <tr>\n",
       "      <th>1</th>\n",
       "      <td>hola. no suelo criticar jamas lo que paso pero...</td>\n",
       "      <td>3</td>\n",
       "    </tr>\n",
       "    <tr>\n",
       "      <th>2</th>\n",
       "      <td>Escogi meses antes de mi boda una habitacion p...</td>\n",
       "      <td>3</td>\n",
       "    </tr>\n",
       "    <tr>\n",
       "      <th>3</th>\n",
       "      <td>Voy a se Lo mas equitativo posible; porque soy...</td>\n",
       "      <td>3</td>\n",
       "    </tr>\n",
       "    <tr>\n",
       "      <th>4</th>\n",
       "      <td>Esta es una experiencia de septiembre de 2016;...</td>\n",
       "      <td>3</td>\n",
       "    </tr>\n",
       "    <tr>\n",
       "      <th>...</th>\n",
       "      <td>...</td>\n",
       "      <td>...</td>\n",
       "    </tr>\n",
       "    <tr>\n",
       "      <th>195</th>\n",
       "      <td>Excelente atención; instalaciones; comodidad; ...</td>\n",
       "      <td>5</td>\n",
       "    </tr>\n",
       "    <tr>\n",
       "      <th>196</th>\n",
       "      <td>Realmente disfrutamos en pareja por 2 noches d...</td>\n",
       "      <td>5</td>\n",
       "    </tr>\n",
       "    <tr>\n",
       "      <th>197</th>\n",
       "      <td>Muy buena excelente; muy buena ubicación; cerc...</td>\n",
       "      <td>5</td>\n",
       "    </tr>\n",
       "    <tr>\n",
       "      <th>198</th>\n",
       "      <td>Pasé con mi familia la celebración del Año Nue...</td>\n",
       "      <td>5</td>\n",
       "    </tr>\n",
       "    <tr>\n",
       "      <th>199</th>\n",
       "      <td>La amabilidad de todo el personal (sin excepci...</td>\n",
       "      <td>5</td>\n",
       "    </tr>\n",
       "  </tbody>\n",
       "</table>\n",
       "<p>200 rows × 2 columns</p>\n",
       "</div>"
      ],
      "text/plain": [
       "                                                  text  label\n",
       "0    Es un gran hotel; el mejor de Asunción. Buenas...      3\n",
       "1    hola. no suelo criticar jamas lo que paso pero...      3\n",
       "2    Escogi meses antes de mi boda una habitacion p...      3\n",
       "3    Voy a se Lo mas equitativo posible; porque soy...      3\n",
       "4    Esta es una experiencia de septiembre de 2016;...      3\n",
       "..                                                 ...    ...\n",
       "195  Excelente atención; instalaciones; comodidad; ...      5\n",
       "196  Realmente disfrutamos en pareja por 2 noches d...      5\n",
       "197  Muy buena excelente; muy buena ubicación; cerc...      5\n",
       "198  Pasé con mi familia la celebración del Año Nue...      5\n",
       "199  La amabilidad de todo el personal (sin excepci...      5\n",
       "\n",
       "[200 rows x 2 columns]"
      ]
     },
     "execution_count": 3,
     "metadata": {},
     "output_type": "execute_result"
    }
   ],
   "source": [
    "data"
   ]
  },
  {
   "cell_type": "markdown",
   "id": "b3fe1bf9",
   "metadata": {},
   "source": [
    "Aqui podemos observar como el dataset esta conformado por dos columnas, una con el texto en español donde cada comentario va separado por punto y coma y, luego, va el label con la nota."
   ]
  },
  {
   "cell_type": "markdown",
   "id": "96474e83",
   "metadata": {},
   "source": [
    "2. Realice el pre-procesamiento que considere necesario. Puede utilizar funciones de la librería NLTK o spaCy, a su voluntad. Recomendamos una escritura modular del código, para poder hacer pruebas posteriormente, viendo si se obtienen mejores resultados al utilizar stop-words, al realizar una extracción de formas canónicas, etc."
   ]
  },
  {
   "cell_type": "code",
   "execution_count": 4,
   "id": "2621d7b3",
   "metadata": {},
   "outputs": [],
   "source": [
    "    # Ponemos los textos en una estructura de datos separada para poder pasarle nuestra funcion de preprocesamiento\n",
    "corpus = data.iloc[:,0]\n",
    "categs = data.iloc[:,-1] # extract column with sentiment"
   ]
  },
  {
   "cell_type": "code",
   "execution_count": 5,
   "id": "bfe7c348",
   "metadata": {},
   "outputs": [],
   "source": [
    "####\n",
    "wpt = nltk.WordPunctTokenizer()\n",
    "stop_words = nltk.corpus.stopwords.words('spanish')\n",
    "\n",
    "def normalize_document(doc):\n",
    "    # lower case and remove special characters\\whitespaces\n",
    "    doc = re.sub(r'[^a-zA-Z\\s]', '', doc, re.I|re.A)\n",
    "    doc = doc.lower()\n",
    "    doc = doc.strip()\n",
    "    # tokenize document\n",
    "    tokens = wpt.tokenize(doc)\n",
    "    # filter stopwords out of document\n",
    "    filtered_tokens = [token for token in tokens if token not in stop_words]\n",
    "    # re-create document from filtered tokens\n",
    "    doc = ' '.join(filtered_tokens)\n",
    "    return doc\n",
    "\n",
    "normalize_corpus = np.vectorize(normalize_document)"
   ]
  },
  {
   "cell_type": "code",
   "execution_count": 6,
   "id": "94cc8bca",
   "metadata": {},
   "outputs": [
    {
     "data": {
      "text/plain": [
       "array(['gran hotel mejor asuncin buenas habitaciones gente maravillosa servicio excelente comida buena cargaron doble estadia expedia hotel hacer checkout llamar varias veces telfono horas devolvieran dinero nico malo gimnasio anuncian gimnasio solo pard caminadoras ojal mejores equipos',\n",
       "       'hola suelo criticar jamas paso vez animo hacerlo segunda estancia mala experiencia hotel primera probarlo cautivo concepto ecologico hotel segunda forzada tenia lugar alojarmeprimera cosa hotel supone ecologicamente sustentable puede descargar litros litros agua descarga asi lluvia supuestamentepuede tener tantos accesorios banio plastico absolutamente biodegrable menos cumple conceptos sustentabilidad tan buscados ultimamente puede pagar u suite presidencial salir ducha caminar metros mojados busqueda tesoro llamese toallon corriendo riesgo resvalarse hacer ultimo viaje si atencion personalizada noche anterior habitcion simple previamete habia dicho podia mudar suite presidencial mediodia parece interesante toquen timbre diferentes personas diciendoles puede mudar viajamos negocio primero buscamos creo buen escritorio conexion laptops cosas minimas tener toma corriente mismo lugar trabajo disparatado pues si habitacion barata tampoco suite presidencial si ven carta suite tentadora descripcion cervezas frias esperan despues dia arduo feliz corre heladera saboreandola antemano oh sorpresa cerveza ven dandose hermoso banio inmersion zas telefono suena habitacion salirse tina hacer busqueda gran tesoro toallas hotel mision seria si llamado avisarle gano loteria pasa si atiende cortan si hacen veces mas termino minutosno quiero seguir solo ser honestos menos viajeros frecuentes tratamos balancear vida personal negocios',\n",
       "       'escogi meses boda habitacion hacer sesion fotos hora hotel viendo habitaciones finalmente escogi encanto pagu apenas pidieron pase hago check in dan ninguna explicacion lgica ningun gesto disculpas qued decepcionada esperaba tipo atencin',\n",
       "       'voy mas equitativo posible persona bien intencionada encanto wilma seora adea habitacin clasica persona sencillita predispuesta educada nota buen caracter humano principio primer llamado efectue atencion inmejorada',\n",
       "       'experiencia septiembre asi quizas cosas cambiaronreserv senior suite luna miel organizadora paquete luna miel miembro hotel atenta ayud amablemente haba comentado organizadora tenia nadie ayude poner flores auto iba llevar iglesia dia dijo preocupe personal iba ayudar ningun problemalleg dia boda prepar suite llam recepcin pedir ayuda flores auto recepcionista solo limit decirme dejaron dicho podia hacer cuadas bajar poner flores bueno mal entendidolo si molest siguiente suegros quisieron regalar noche extra hotel llamaron sepamos hotel pidieron noche mas reservacion persona atendio dijo habiamos reservado noche extra verdad salimos hotel llegamos casa suegros preguntaron porqu quedamos si habiamos reservado noche mas terminaron llamando nuevo recepcion siempre hablamos misma recepcionista inconveniente suegra pregunto pas supo responderle pas peor recepcionista dijo habia comunicado intencin noche extra parte suegros ciertoluego luna miel coment via mail organizadora paquete luna miel inconveniente visto bueno duea ofrecieron voucher almuerzo restaurante tena ir pasar recepcin retirarlovamos hotel retirar voucher encuentra misma recepcionista problemas anteriores comento voucher solo limita decir dejaron dicho puede hacer solamente despus mencion contact duea hotel cambi actitud llam organizadora dieron bendito voucher dos personasfuimos domingo almorzar llevamos voucher si piensan final feliz entramos dimos voucher almorzamos estabamos puerta salir alcanza corriendo personal diciendo voucher solo persona recepcionista solo marco voucher si novio mismas molestias final sent alguien aprovechando situacin debido bochorno hicieron pasar verificaron voucher sentemos mesadejo review estn atentos detalles hagan pasar situaciones incmodas ma',\n",
       "       'entusiasm idea alojarnos hotel solicitamos recepcionista muestre creemos idea representar misin franciscana representa frio habitaciones estilo antiguo tambin acogedoras as restaurante aunque comida buena ambiente frio llama regresar especialmente alto costo',\n",
       "       'argentinos trataron hacer lugar histrico embargo qued frio caro acogedor recomiendo desayuno costo aparte carsimo mejor hub mismos argentinos menor precio buen servicio',\n",
       "       'preparamos hotel si bien parece elegante comida buena personal amable ruido grupo personas llegaron pareca tan buenas condiciones buen sonido arpa costoso habitaciones servicio ofrecen',\n",
       "       'molesto reciban dlares mundo recibien dese unidos demas pases limtrofes per bolivia brasil quisieron recibir dlares manifestaron tenan firmas rayas',\n",
       "       'segunda visita hotel misin prest atencin puntos altos bajos comparando sendas experiencias positivo shopping mariscal est ampliando servicios tens cines buenos cuadra hotel as tambin gastronoma villa morra lugar chick asuncin aqu pods mover hacia lugares gran ciudad suma comodidad tens medios transporte disposicin impecable atencin personal todas reas front desk habitacin puntos bajos falta estacionamiento cubierto carros quedan intemperie tampoco satisface cantidad habitaciones superficie destinada debiendo ubicarse peor casos calle prxima hotel servicio spa habilitado pesar publicitarlo hotel pgina web conste hablando hotel boutique compite precios hoteles estrellas superiores general experiencia satisfactoria qued sabor falt',\n",
       "       'lineas generales bien problemas check in habitacion aun disponible maana limpieza cuartos apertura cierre puertas contiguas extremadamente ruidosa afecto descanso',\n",
       "       'hotel categoria bidetcomo baerala habitacion amplia digamoslo asi bao deja desearel desayuno rico surtido aunque parte dulce pobrela healderita habitacion bebidas temperatura ambiente apaga retirar llave hielo pedir traigan hielo pais hacen siempre grados minima',\n",
       "       'aloj hotel habitacin standard ped cuna hija aos hotel cmodo familias nios creo varias limitaciones baera slo ducha baar beb imposible hotel rampa acceso discapacitados cochecitos bebs cada vez entraba sala empleado hotel ayudaba levantar coche beb pareca incmodo piscina est terraza climatizada agua congelada pude dejar hija bae iba terminar enferma terraza adems peligrosa nios unas barandas bajas dan vacio ecsaleras subir piscina mismo pude sacarle vista ningn momento hija tiempo tena miedo acerque barandas hotel creo lindo ir pareja chicos ms grandes cosas buenas hotel bien ubicado frente shopping cuadra super buena atencin personal dan celulares gratis comuniques habitaciones grupo grande desencontramos buen desayuno comida caro s sern precios hoteles asuncinigual parece precio categpra hotel deberan tener instalaciones preparadas recibir nios discapacitados',\n",
       "       'bueno ubicacin decoracin atencin desayuno servicio limpieza atencin critica colchones duros mucha demora cocina almorzar comer desayuno perfecto',\n",
       "       'comodo limpio inconveniente habitaciones planta baja subir escaleras tranquilo pesar lado ruta transitada desayuno completo variado atencion parte personal excelente estacionamiento pocos autos',\n",
       "       'gimnasiomuy buen hotel solo deseara gimnasio mas equipado poder hacer deporte mantener ritmoterrazael servicio terraza debera disponible hrs agradable temperatura horas noche',\n",
       "       'volveria definitivamente bonito espacio cerca gran centro comercial comida buena trato altura camareras siempre atendieron llamado pedirles mas toallas bellboy atendio llamado instante hotel mas bien pequeo amenidades podrian hacer competir grandes cadenas',\n",
       "       'cost conseguir lugar varias veces haba tratado conseguir lugar nunca haba podido habitacin dieron buena vista buena cama buena ducha bid quedamos noches general est bien convenci pesar ser hotel boutique trataron forma impersonal sacando chicas tarde recepcin siempre amables convenci atencin desayuno bueno gracias muchacho toca excelente forma arpa cenamos varias veces restaurante comida buena atencin tampoco excelente igualmente volveremos ir reservaremos ms tiempo espero conseguir mejor habitacin mejor atencin',\n",
       "       'excelente servicio staff amable dispuesto hotel boutique lindo limpio bien ubicado lado muchas tiendas cafs restaurantes linda terraza techo piscina pequea cmoda',\n",
       "       'excelente amabilidad personal atiende rubros hotel ser destacado mas comentar hotel entiendo trip ad visor exige escribir caracteres dar opinin deberan darse cuenta ustedes estn obligando hacer interesa escribir opinin limita di hotel ustedes sele ocurri caracteres',\n",
       "       'magnfico hotel ubicacin centro ciudad asuncin junto reas comerciales excelente atencin personal estupendos servicios adems desayuno ofrece completo',\n",
       "       'buena ubicacin cerca centro comercial cuanto servicio cuarto tambin igual decoracin habitacin hotel general cuanto comida buena perodebera tener mas variedades',\n",
       "       'fascin toquecito jugo verde buffet desayuno estticamente hotel ms agradable tpico hotel estrellas cadenas internacionales personal amable disponible',\n",
       "       'buena estructura lindo hotel excelente servicio ubicacin ademas lindamente tematizadolos puntos bajos estancia reformas molstaron sueo cama matrimonial armada dos colchones',\n",
       "       'ofrecieron servicio recoger aeropuerto cotizaron dlls ida vuelta informaron correo tarifa seria mas alta ser camioneta nunca dijeron serian dlls cada viaje parece demasiado viaje tan corto haber sido informado seria mejor buscar traslado aeropuerto',\n",
       "       'destaco excelente predisposicin personal hotel sectores limpia excelente habitacin bueno desayuno baja disponibilidad cocheras debiendo dejar auto estacionado va pblica perjuicio ello zona tranquila segura',\n",
       "       'misin hotel boutique est ubicado estratgicamente barrio villamorra fcil llegar aeropuerto buena distancia centro histrico pasos centro comercial hotel cuenta ambientacin bien lograda estilo misiones jesuitas adems cuenta hermosa terraza amplia piscina gastronoma hotel brinda conocer paraguay travs sabores recomendable',\n",
       "       'esposa pasamos bien usamos gimnasio vea completo piscina linda falta parte ms playa ubicacin excelente mejorara entrada saln fiestas junta entrada huspedes queda bien dems excelente',\n",
       "       'deberian mejorar calidad servicio restaurante meseros sirven mejor parejas grupos personas solas ignoraron tenia repetirles irles buscar trajeran nunca acordaban numero habitacin veces pedan dos veces si conocieran ahi das',\n",
       "       'hotel mejores ciudad asuncin aspecto colonial hace mas encantador habitaciones atencion personalizada hacen excelente hotel tambien ideal reuniones negocios almuerzos ejecutivos',\n",
       "       'excelente hotel altura expectativasdeberan mejorar desayuno creemos importante re disear mismoaconsejamos especialmente eventos bodas etc personal eventos eficiente efectivo',\n",
       "       'servicio fu buenolas instalaciones excelentesla cordialidad trato personal fu excelentela ubicacin buenalo nico gust fu tener bidet habitacin ms grave cochera',\n",
       "       'enero hospede primera vez calificacin aquella oportunidad buena semana pasada volvi nuevamente compaa hijo familia pareci excelente hotel comodidad privacidad necesaria tipo hotel boutique',\n",
       "       'pequenio hotel comodo limpio bien ubicado trato inmejorable unico pormenor encuentro gimnasio extremadamente pequenio hotel recomendable decoracion tipica paraguaya',\n",
       "       'excelente atencion buen desayuno habitacion confortable seria bueno spa disponible hotelmuy amables recepcion restaurante botones amenities bao cafe agua cortesia habitacion',\n",
       "       'visite restaurante frente medio da semana bien servido buffet buena atencin mozo cargo buen ambienteya visite ocasiones siempre buenas experiencias igual hotel hospede anteriormente piezas encontr limpias camas cmodas ubicacin hotel privilegiada cuenta shopping mcal lpez puerta comercios restaurantes bares cerca',\n",
       "       'hotel agradable detalles decorativos buen gusto cmodo bastante amplio imperfecciones mejorar ejemplo bao tenia rota canilla quedabas comando mano tenia bidet poca luzel detalle gusto haba fiesta casamiento noche acceder hotel difcil lleno gente tapando accesos si bien habitacin escuchaba ruido s vibracin sonido cama literalmente temblabael desayuno completo abundante ofreca buenos panes quesosno obstante rescata camas comodas ubicacin esttica dara oportunidad',\n",
       "       'buen hotel boutique bien ubicado pileta elegante limpio bien decorado excelente atencion buen wifi frente shopping mariscal lopez buen business center impresora computadoras cada piso',\n",
       "       'hospedamos esposo noche hotel hicimos check in ayer sbado pasamos toda tarde pileta hotel encuentra to piso habitacin designaron lujo cada detalle nico acogedor cada noche cenar pequeo hermoso restaurant paraqvaria deleitaron seor ejecutando arpa vivo comida riqusima gust jugo frutilla ped dems espectacular da siguiente desayunar buffet variado mozos atienden manera personalizada lugar acogedor podrs pasar experiencias fabulosas recomendado',\n",
       "       'exelente atencion calidad humana lindo solo picina chica hab exelentesbueno cre redondeando lugar aconsejar parejas noche romanticano mas decir',\n",
       "       'buen hotel trato exquisito personal atentos habitaciones cuidadas espaciosas buffet desayuno comida variado correcto solo mejorar gimnasio pequeo poca variedad maquinas',\n",
       "       'hotel asseado bela decoracin buena localizacin personal agradable moderna arquitectura bao debera ter mais pression gua duche mas mesmo assi agregarle comparado grande maioria hoteles',\n",
       "       'hermoso hotel boutique buena ubicacin estratgica adems habitaciones hotelestn decorados excelente criterio atencin especial personalizada recomendable precio alto relacin opciones ciudad destaca',\n",
       "       'lindo cuidado hotel boutique asuncin buen desayuno excelente atencin personal pileta chica habitualmente algn evento algn ruido genera ejemplo toc casamientos',\n",
       "       'lindo hotel cosas mejorar ruido aire sisterna inodoro tirar agua reserv habitacin noche aniversario bodas pusieron bombones flores champagne reserv detalles decepcin llegar desayuno bueno personal amable',\n",
       "       'pasamos noche fantstica gracias personal atendi cordialmente momento temprano alistarme boda atentos conmigo familia acompaaba',\n",
       "       'genial limpio buen gusto cuidado hotel ofrece necesitas hotel familiar desayuno primera comido cen hotel amigos mios dijeron toda comida excelente solo desayuno',\n",
       "       'restaurante estilo francs dentro hotel misin bien equipado muebles poca atencin personal destacar amabilidad l men variado cartas vinos buenos postres rico caf piensen caro ambientacin come dlares',\n",
       "       'excelente experiencia negocios familiabuena ubicacin ciudad instalaciones adecuadas excelente servicio predisposicin personal habitaciones cmodas siempre estn bien puestas',\n",
       "       'detalles digo calefaccin bao habitaciones bidet tipo europeo vamos casi inaugurado personal ultimamente renovado sigue siempre cordial dispuesto disfrute',\n",
       "       'general bueno salvo rapidez internet lineas general hotel limpio comodo cuenta personal amable primera noche dejan chocolatitos despues mas necesario mejoren rapidez internet',\n",
       "       'extraordinaria experiencia habitaciones cama comida desayuno personal amable hotel tranquilo ideal sentarse tranquilo trabajar descansar tomar tarde recomendara espero volver pronto',\n",
       "       'llegu am mision despus vuelo largo llegar paraso rpidos atencin recepcin papeles detalles innecesarios rellenar llegue habitacin linda toda decorada estilo provence blanco flores qu conforto qu comodidad baos limpios hermosamente pensado detalles igualmente lindos super romntico pena trabajo assuncin localizacin hotel super buena alrededor restaurantes mall justo delante varias opciones desayuno pequeo surtido bien escogido frutas divinas dos nicos puntos malos hotel gimnasio pequeo mal estructurado conexin wifi mediana veces alcanzaba habitacin um punto importante obra expansin shopping delante hotel puede molestarte da',\n",
       "       'buen hotel hizo amena personal cordial trataron bien flialas habitaciones comodas espaciosas bien luminosas cama buen tamao dormimos bien',\n",
       "       'comodo habitacin confortable limpia pueda necesitar atencin buena desayuno monumentallo si habia sugerido carta restaurant pueda tener ms opciones',\n",
       "       'biencomida nivel atencionespecialmente necesita mejorar comodidad cama habitaciony mas variedad comida desayunocon rapides serviciopero general bienquiero recomendar amigos',\n",
       "       'duda hotel comodo agradable buna atencion parte personal ademas excelente atencion evento realizamos salones tecnico bien atendido todas facilidades buen desarrolllo evento',\n",
       "       'hotel bonito linda luz habitaciones amplias decoracin simptica resolver ruido ac falta potencia acceso internet pude conectar fcilmente hotel lindo personal inmejorable dos asuntos hacen hotel baje categora',\n",
       "       'result ser estancia cmoda agradable amabilidad personal atendi estancia hotel mostr interesado ofrecer mejor servicio posible',\n",
       "       'reserv matrimonio menor aos dieron habitacin solamente cama matrimonial nica queja salvo cable restaurante hotel bueno atencin excelente tendran agregar mas reposeras pileta haba solo tres',\n",
       "       'bueno general trato dentro profesionalismo adecuado familiar clido conclusin hotel altamente recomendable hacer turismo realizar reuniones comerciales',\n",
       "       'buen hotel regreso prximo viaje recomedar conocidos buena experiencia comentario ampliar men proponer tipo desayuno buffette',\n",
       "       'decir infraestructura gusto decorado personal ubicacin atencin realmente buenas cada vez pasas hotel sales satisfecho cuanto esopero cuestiones hoy da pueden descuidar perder vista calidad comida bebida wi fi ms menos deben mejorar pueden ser mejor asuncionde todas maneras sigue siendo altamente recomendable',\n",
       "       'excelente hotel piscina pequea habitaciones hermosas desayuno hotel extrellas jugo pasado agua encuentra frente shopping villa morra mariscal estacionamiento wifi pobre etc',\n",
       "       'realmente personal sido amable servicial momentola habitacin comoda temperatura calurosa habitacin tenia excelente sistema aire acondicionadoademas contaba lindos detalles hicieron larga semana agradable',\n",
       "       'eslogan hotel llega husped sale amigo ciertamente verdad personal amable servicial altamente profesional hotel general agradable habitaciones cmodas limpias ubicacin excelente desayuno bueno habitacin asignada aire acondicionado ruidoso forma corrientes desagradables tv mala calidad imagen pocos canales',\n",
       "       'buen hotel buen ubicado tarifas caras excelentes habitaciones buena atencin hotel boutique especial tranquilo disfrutar especial asuncinmuy recomendable negocios placerno dudes',\n",
       "       'mision escun gran establecimiento tamao moderado cuidada ambientacion servicio excelentecen lis ambitos siemlre correctosagradables ganas satisfacer huespedla comida buen nivel calidad encimacdd media carta vinos reducida cubriendo gustosmi unica queja aire acondicionado hace japonesescualquier marca inventaron aparatos absolutamente insonoros ademas misionla potencia salida aire bien regulada elegir congelarse dormir mal pensando resfriado quecel aire siempre cae arriba dormir mal sudandoen lugar asuncion asunto poca cosa hablamos calor mucha humedad favorinviertan calidad sueo descanso restoque mas dificil hecho saben hacer',\n",
       "       'primera cada detalle cuidado extremo agua ducha imposible regular pena igual super recomendable atencin personal primera comida hotel buena desayuno excelente tambien',\n",
       "       'servicio lavanderia fenomenaldesayunos ricosgim pequeo gustola verdad general siento mimado hotelmuchas gracias ser soisla verdad siento mimado fenomenal empleados hotel',\n",
       "       'precioso hotel excelente atencion bien ubicado desayuno impecable hotelel personal diez puntos aspecto vale pena hospedarse hotel disfrutar servicio brindan',\n",
       "       'hotel mision siempre servicio estupendo personal super amable profesional estupendo desayuno buen restaurante buena piscina nico gimnasio mejorable',\n",
       "       'mujer diashotel confortable bien ubicadohabitacion primera asignaron baja tenia vista obra construccion solicitamos cambio pasaron mas alta buena vista mejor luz necesario confortablesservicios comida bastante buena mozos mozas amables patio limones agradable comerbuena pileta terrazaatencion personal amable dispuestos resolver',\n",
       "       'hermoso hotel decoracin jesutica misionera particularmente hermosaubicado pleno villa morra barrios ms lindos asuncin frente shopping mariscal lpezdesayuno espectacular atencion personal buena',\n",
       "       'ser primeros traer pas concepto hotel boutique bastante bueno lneas generales aunque sera mejor si trabajaran ms aspectos personalsimos diferencian hotel boutique tradicionalbuen ambiente est nuevo ayuda atencin tambin buena precios baratos si vale pena encuentra diferencia hotel vale pena toda vida',\n",
       "       'hotel boutique bueno atencin casi personalizada higiene excelente restaurant bueno amabilidad excelente solo faltaron detalles quede sorprendida excelente atencin',\n",
       "       'hotel casi nuevo confortable variedad caldiad desayuno destacar amabilidad personal recepcin restaurant srvicio hacen sentir bien atendido casa',\n",
       "       'hospede noches hotel trabajo compaera quedamos habitacion doble empecemos habitacin comoda grande necesario descansar restaurante hotel grande desayunos abundantes variados muchas frutas comida tipica paraguay decoracion hotel espectacular ubicacion fenomenal cerca shoppings bancos supermercados nivel servicio bueno unico sucedio percance primer noche gotera hizo inundara parte entrada habitacion despertamos am llamar recepcion solventaron compensacion movieron habitacion regalaron cena indicaron semana anterior visita papa francisco habia realizado mantenimiento igual creo excusa tener condiciones lugar buenos terminos demas espectacular',\n",
       "       'pasar da madre ah alojamos mirar web espacio hotel slo ubicacin cierto excelente trabajan ah ecepcion super atentos respetuosos desayuno bien variadito habitacin extraordinaria genial precio amerita perooooo pequeo dependencias ejemplo lobby hacer mas hotel tipo dpto limitado solo arriba terraza haba lugar llueve hacer',\n",
       "       'excelente ubicacin servicio organizamos desayuno trabajo sali bien importante dispone wifi incluido tarifamuy buena atencin duda volveremos realizar algn evento ah',\n",
       "       'hotel cmodo brinda relajacin tranquilidad rn habitaciones ambientacin buena atencin recepcin amable lenta momento check outlas habitaciones amplias cama confortable ayuda buen descanso',\n",
       "       'encant suite piscina servivio atencin detallista personal ninguna queja hotel si bien restaurant mejor mejor q envidiar ninguno hermosa vista terraza altamente recomendado',\n",
       "       'buena opcin alojamiento asuncin paraguay sitio acogedor ubicacin conveniente cerca servicio primera cualquier requerimiento estn disponibles importar hotel chico imprimir documentos previo reunin logre coordinarlo hotel necesidad desplazarme comida buena especial desayuno zona bar agradable nico bemol est frente centro comercial visitado calle puede resultar ruidosa noche recomiendo ampliamente',\n",
       "       'si bien breve apenas noche suficiente advertir cuidado atencin buen gusto responsables administracin hotel habitaciones amplias cmodas estn bien ambientadas recomiendo viajes negocios pareja familia duda regresara',\n",
       "       'buena habitual hotel mejor desayuno limpieza arreglo habitaciones cordialidad gabrielle dudas mejor recepcin sorpresa negativa terraza zona gimnasio reparacin si bien hotel ofreca voucher asistir gimnasio ubicado cuadras hecho contar privacidad fcil acceso gimnasio hacen sorpresa sido agradable sugiero informar husped clase reparaciones zonas estaran habilitadas momento efectuar reserva punto mejorar veo reiteradamente todas veces hospedo hotel agilidad check in check out pierde tiempo esperando extracto cuenta proceso si piano frente ascensor si bien linda novedosa puesta escena luego torna repetitiva varios das hospedado parece lugar encuentra mejorcentrado lobby anterior ascensor da sensacin espacio reducido convenci general buen hotel recomendable pienso cuidados extras atencin husped sera realmente excelente',\n",
       "       'lindo hotel personal atento lindo diseo ubicado casi frente shoppings zona contina creciendo asuncin barrio villa morra frente est construyendo nueva ampliacin shopping mariscal habitaciones amplias bien decoradas recomendable',\n",
       "       'buen hotel ambiente comfortable buenos serviciosel hotel localizado minuto pie shopping mcallopez bien cerca irse pasear hacer unas compraslas comidas ambiente desayuno tambien excelentelo unico falto experiencia hotel ruido encima habitacion dejo dormir bien esposa hospedamos noches habitacion corporate flat primera noche estabamos cama silencio escuchaba golpes leves encima habitacion ocurria cada segundos ruido fuerte ambiente silencioso realmente inconfortable dia siguiente notamos ruido continuaba solo ruido golpe tan claro dia sonidos escuchaba hicimos reclamo recepcion vinieron habitacion ver notaron tambien realmente existia ruido golpes enseguida llamaron tecnico revisar hotel mas tarde dijieron tecnico reviso ruido maquina golpeando pared podian arreglarlo corto tiempo pediimos cambio habitacion recepcion dijo ruido escucha hotel importando habitacion mudamosbueno segunda tercera noche acostumbramos ruido pudimos dormir mejor primera noche ruido golpe aun existia solo cabeza automaticamente comenzo adaptarse verdad unica cosa arruino experiencia hotel restos hotel merece puntos',\n",
       "       'recomendable ir pareja lugar lindo servicios buenos decoracin linda hacer amena super recomendable tener gran asuncin',\n",
       "       'atendieron bien mejor restaurant desayuno buen nivel encanto decoracion habia muchas novias sacandose fotos boda da toque romantico especial unico negativo obra construccion frente maana habia bastante ruido',\n",
       "       'bien ubicado servicio calidad decoracin bonitael desayuno aspectos positivos hotel junto personal atentola terraza bonita gimnasio piscina pequenos',\n",
       "       'bonito cuidada decoracin bien ubicado dos shoppings enfrente hotel boutique grande habia poca gente da sensacin lleno puede tener problema capacidad ascensores desayuno restaurante acorde hotel nivel gimnasio mal solo dos cintas ms bonita terraza alfombra verde simula ser cesped sillas tipo parque personal atento habitaciones comodas bonitas lujosas wifi gratis',\n",
       "       'buen hotel boutique lugar agradable servicio bueno est ambientado manera agradable servicio restaurante bueno desayuno variado excelente calidad nico deberan mejorar gimnasio chico equipado',\n",
       "       'noche evento trabajo bien servicio dedicado buena variedad desayuno servicio traslados correctos dudas volver elegir futuro viaje',\n",
       "       'hotel bien decorado conmucho estilo acogedor servicio bueno conida buena aunque increible deberia mejorar sobretodo hotel pequeno caro personal buen servicio',\n",
       "       'hotel realmente bonito inspirado misiones jesuticas paraguay moderno habitaciones cmodas iluminadas excelente atencin encanto restaurant msica ambiental vivo recomendable extranjeros residentes pas',\n",
       "       'verdad sido experiencia nica habitaciones cmodas servicios salas acogedoras gimnasio completo internet libre buena conexin verdad fascinante all nuevamente pase asuncin',\n",
       "       'hotel cmodo limpio buenos servicios falta entrenamiento gente recepcin front desk explican bondades amenities hotel llegar falta mejorar cultura atencin clienteel hotel general bueno',\n",
       "       'viaje enero trabajo hermoso calidez habitacion decoracion general hotel hacen sentir comodo restaurant bueno tambien buena ubicacin cuadras shoping',\n",
       "       'hotel excelente ubicacin barrio seguro servicio personal impecable igual limpieza instalaciones desayuno delicioso volvera siempre aunque lamentablemente desayuno advert encerrados jaula dos papagayos siquiera pueden desplegar alas tampoco reciben luz sol jardn tupido jaulas vacas decoracin hotel bellas recuerdan aves deben ser libres ojal coherentes criterio ruego tomen medidas respecto creen hbitat digno aves peligro extincin',\n",
       "       'hotel buena ubicacin cerca shopings asuncionexcelente atencin servicio restaurante bueno buena calidad atencin comida lugar calido decoracinmuy recomendable',\n",
       "       'fin semana hospedamos familia quejarme si cuanto atencion prepararon cena terraza habiamos hecho hace anhos atras cena excelente sabroso solo recomendaciones ve hotel cuanto habitaciones encuentran descuidado faltaria reformas habitaciones camareras bien arreglan camas habitacion si dejan forma apurada hacen anteriormente distinto habia mas atencion cuanto tambien cargaron bebidas conocimiento tomamos frigobar habitacion algun informe spa masajes desayuno tendrian tener mas variedades dulce tortas tartas pocas facturas agradables resto ok espero tomen nota recomendacion mejorar igualmente siguen siendo mejores',\n",
       "       'hotel bonito comodo calidad atencion personal destacar viajamos familia pasamos super bien recomendable mundo servicios ubicacion',\n",
       "       'febrero realic ltima visita misin cuarta vez visito hotel crtica prcticamente invariable respecto efectu luego primera visita ubicacin excelente habitaciones cmodas decoracin maravillas sonido impecable mgico arpa siempre presente excelente lamentablemente segn humilde punto vista atencin restaurante sigue altura hermoso hotel trat desayunar am haba mesas disponibles personal restaurante indic esperemos sillones ubicados luego lobby luego iban indicar desocupaba mesa largos minutos pasaron novedad alguna luego esperar tiempo prudencial min entramos saln viendo mesas desocupadas an preparadas nuevo comensal cordialidad personal brill ausencia igualmente detalle desmerece excelencia hotel dudas servicio personal restaurante tambin orientados hacia excelencia',\n",
       "       'hotel buena atencin restaurante mejor ciudad habitaciones comodas limpias ubicacion mejores medio cuadra shopping mariscal lopez mejorar trato visitas recibi varias visitas cuales subieron habitacion debereron dejar datos recepcin poder hacerlo molesto algunosen terminos generales recomendable',\n",
       "       'elegi hotel pasar noche bodas verdad quede plenamente conforme contacte hacer reserva atencion primera servicio transfer super recomendado puntual choferes amables profesionales tiempo disfrutar instalciones masaje tambien bueno pienso volver festejar aniversario conocer mas hotelel desayuno delicioso cuanto restaurant probado',\n",
       "       'tercera estadia hotel servicio mantiene buen nivel habitaciones estan limpias bien equipadas apariencia hotel general excelente desayuno completo comedor ambiente intimo opuesto enormes hoteles desayunar quedarse sordo ruido cientos huespedespueden mejorar servicio comidas cuartos parecen prestar atencion ordena',\n",
       "       'hotel encuentra situado nuevo centro asuncin villa morra cercano buenos restaurantes centros diversin nocturna habitaciones buenas amplias finamente decoradas punto flojo misin entender restaurante realizar check out recibo sorpresa cargos efectudos persona cuenta restaurante si bien solucionado agradable realizar check out bien temprano tener dar explicaciones error debi accionar huespedel horario desayuno est fijado am baj desayunar misma hora recin colocando mesas haban an colocado panes u comidas acompaar caf escribiendo mala performance restaurante trae memoria episodio desagradable ocurrido cena noviembre insisto hotel revea punto evidentemente encuentra altura resto servicios hotel',\n",
       "       'habitaciones acogedoras si bien hotel nombre indica chico creo picina demasiado chica encerrada casi acorralada expansion optica igual lobi encimado bueno cada persona ejecuta arpa tradicional ademas agradable bao comodo distribucion dimensiones pude sentir',\n",
       "       'hace das participamos desayuno trabajo periodistas verdad qued satisfecha servicio amabilidad profesionalismo personal buen gusto calidad gastronoma eficiencia recomendable punto vista',\n",
       "       'buen gusto decoracin espacios comunes habitaciones destacar personal amable ser pesados tambin eficiente incluso seor seguridad est vereda piscina disfrutable ayuda soportar calor asuncin recuerdo nombre seora persona hace masajes buena luego manda habitacin jugo frutas broche habitaciones generosas dimensiones as bao dentro amenities incluye cepillo dientes habitual hotel est justo frente dos centros comerciales supermercado cine tambin pocas cuadras bares ir tomar tarde dimos gusto escuchar muchacho tocar arpa delicia acompaamos exquisito caf agradable bar desayuno completo rico objetar nico parece altura dems servicios comodidades hotel restaurante carta est mal incluye platos locales desean probar nuevo sabor sorprende mas all postres llego elemento extrao si bien debidamente subsanado problema dej buena sensacin hotel ideal disfrutarlo si pensas ir asuncin asegurate tener da libre disfrutar servicios',\n",
       "       'hoteles preferidos hotel mision jesuita restaurada habitaciones todas absolutamente distintas estan cuidadas mas minimo detalle personal super atento concepto hotel boutique vive hotel recomedable habitaciones pueden ser ruidosas',\n",
       "       'elija cualquiera opciones standard ejecutivas todas maravillosas cada toque decoracin particular personal hotel sumamente encantador camas detalles bao decoracin dignos sealar excelente opcin pasar das fin semana familia negocios atencin funcionarios exquisita eficiente recomiendo dudar',\n",
       "       'nivel atencion personal calidad habitaciones hacen mision lugar unico hospedarse asuncionpor lado ubicacion tambien buenael personal siempre disponible sonrisa satisfacer solicitudes',\n",
       "       'buena ubicacin arquitectura agradable todas comodidades exciten hoy da hoy personal clido profesional cordial as valor calidad alimenticia',\n",
       "       'ral verdadero metre desayuno mejor hotel personal modales respeto permanente sonrisa nica recomendacin deben renovar aire acondicionados pesar funcionar bien generan persistente ruido',\n",
       "       'excelente hotel misin asuncion linda decoracin espacios comunes habitacionesexcelente desayuno servicio habitacin ubicado agradable barrio pasos centro comercial buenas tiendas',\n",
       "       'pileta tenia color medio verde si estanque pudimos hacer uso mismo siendo hotel primer nivel todas instalaciones recomendable pileta acorde calificacion hotel',\n",
       "       'excelente servicio bueno atencion personal tambien condiciones edilicias buen cuidado personal recepcion educado dedicado asi tambien personal atencion cuartos personal restaurant desayuno tambien cumplen forma excelente funcion',\n",
       "       'increibles instalaciones utilizamos fotos boda noche bodes excelente detalles dormitorio amplio play station led full hd bao comodo volveria cada mes si pudiera',\n",
       "       'ubicacin instalaciones amabilidad cordialidad personal junto calidad restaurante hacen hotel misin mejores opcin new ara hospedarse asuncion inapelable habitualmente asuncion largo aos hotel mantiene suma calidad original',\n",
       "       'hotel premium servicio premium detalles sencillos hacen experiencia notable desayuno mas variado restaurante carta bien combinado comidas tipicas platos internacionales habitaciones estupendas espaciosas servicio excelencia altamente recomendable',\n",
       "       'hotel bueno qualquer cinco estrelas pas zona buena um shopping delante desayuno bueno habitacion grande bano bueno simpaticos excelente decoracion casi olvida paraguay',\n",
       "       'recomendable habitaciones dan centro comercial mas ruidosas si gusta dormir ac ventana abierta estupendo desayuno personal encantadorvolvera dudarlo si vuelvo asuncin',\n",
       "       'hotel excelente instalaciones buenas decoracin habitaciones hotel general buena desayuno completo diferencia marca calidad empleados sientes casa',\n",
       "       'gran hotel clido confortable mejor ubicacin mejor gente asuncin servicio extraordinario comida excelente terraza invalorable sentarse trabajar tranquilo tomar hablar llega calor verano',\n",
       "       'debera proteger mejor estacionamiento encuentra descubiertoa rigores intemperie aconsejara igualmente colocar rampa entrada principal personas capacidades diferentes',\n",
       "       'perfecto personal comida habitaciones excelente amabilidad instalaciones autos contratas lleven mas puede pedir gente amiga gusto',\n",
       "       'excelente estadia todas veces vamos asuncion siempre alojamos mismo hotel siempre impecableestan detalles perfume ambiente cena restaurante seor tocando arpasoado',\n",
       "       'estadia tres das experiencia excelente gust orden limpieza espacios comunes habitacion desayuno abundante variado servicio mesa amable servicial general sensacin agradable casa familia cuidada persona buen gusto atiende cada detallesolo incomodo ruidosa descarga sanitario habitacin nico detalle mejorar',\n",
       "       'hotel pesar centro actividades asuncin frente shopping cerca super cerca zona gastronmica vez entras sents lugar alejado ruido casa comodidades hotel estrellas todas comodidades restaurant riqusimo',\n",
       "       'ademas buena ubicacion ademas excelente servicio pasa bien hotel recomiendo muchas veces hotel nunca queja alguna hotel pocos cada persona tratada cliente numero',\n",
       "       'precioso lugar diseo interior admirable relajante ambiente junto instalaciones habitacin restaurante gimnasio piscina terraza excelente ubicacin diversas actividades asuncin diurnas nocturnas',\n",
       "       'buena opcin hotel asuncin ubicacionmuy buena opcin hotel asuncin ubicacin excelente shopping mariscal puerta equidistante aeropuerto centro ciudad',\n",
       "       'est ubicado linda zona frente shopping grande cerca centro cerca aeropuerto hotel coqueto gente amable desayuno riqusimo mucha variedadsinceramente volvera ir',\n",
       "       'lindo calidad incluso cuesta resaltar particular atencin personal habitaciones comidas ambientacin detalles parece compitieran lucirse',\n",
       "       'hotel encuentra lindo barrio frente shopping mariscal bien ambientado excelente servicio desayuno bueno habitaciones buen tamao equipadas necesario personal super amable',\n",
       "       'excelente hotel punto vista encuentra ubicado barrio ms top nueva asuncin polo gastronmico comercial increble incluye ferias variadas casas cambio diversos shopping centersla atencin personal primera categora incluye mucamas mozos personal exteriores mantenimiento quiero destacar excelente atencin profesionalismo dinmica silda camila supieron suplir eficiencia pedidos punto extra decoracin armado mobiliario presentacin mesas comidas desayunopuntos mejorar pocos climaticen piscina invierno saquen plasma encima piano pared quiz opten pastelera ms sofisticada desayunadoragradecemos esfuerzo general pues sabemos bien llevar adelante hotel tarea sencillapd ms detalles sorpresas dejaremos sorprendan husped',\n",
       "       'atencion hotel excelente habitaciones super comodas desayuno lujo espectacular cama comoda calidez empleados realmente valorable experiencia hotel excelente sumamente satisfecho cada vez voy paraguay vuelvo mision',\n",
       "       'excelente buen desayuno amplias confortables habitaciones bien equipadas servicio atento eficiente terraza piscina interesante lindo trago picada',\n",
       "       'clidomuy bbien ambientad personal idneo siempre predispuesto ubicacin estratgica negocios yeespazamiento solo quisiera rescatarcquedel gimnasio cuenta pocos elementos ejercicios fsicos sera ideal ms amplio ms cantidad aparatos ejemplo cuenta sola bicicleta horarios ms concurridos maana ltima hora siempre est ocupada',\n",
       "       'increble atencin ocupan huspedes estn siempre atendidos adecuadamente trato increble habitaciones amplias limpias comida calidad desayuno variado estrellas ms ganadas',\n",
       "       'elegante ambiente excelente atencin habitacin cmoda amplia desayuno abundante completoel personal siempre brind colaboracin atento tuviramos inconvenientes lugar est hotel agradable',\n",
       "       'llegada atencin cordialidad recibida recepcin hotel habitacin impecable excelente desayuno acompaado musicas com tpica harpa paraguayaubicacion prxima centros comerciales',\n",
       "       'buena atencin hotel hermoso cuidado excelente ms satisfechos atencin recibida servicios personal despus boda all satisfechos atencin recibida',\n",
       "       'repito primero principal calidad humana artesanas mobiliario decoracin perfecto detalles cuidados ms mnimo puerta entrada seguir visitandolos seguir visitando hermosa ciudad pas',\n",
       "       'siempre viajamos asuncin ciudad vemos progreso da gusta llegar hospedarse misin casa atencin personal desayuno completo excelente',\n",
       "       'excelente atencin cordialidad buen servicio gastrnomia desayuno cena presenta pileta linda gimnasio bien equipado hermosa vista terraza ideal disfrutar pareja recomiendo',\n",
       "       'ubicacion hotel buena encuentra cerca mall avenida central calidad servico amplitud habitaciones amabilidad personal buenas punto destacar caidad restaurante',\n",
       "       'excelente atencin personal chicos recepcin mozos especialmente roberto soniala limpieza ubicacin decoracin funcionalidad buen desayuno comidas recomendable',\n",
       "       'buenisima localizacion servicio amable ambiente caracter servicio impecable comida buena cuartos amplios cama almohadas comodas definitavemente volvere recomendaria altamente familia amigos',\n",
       "       'siempre recomiendo ste lugarla ubicacin excelenteel servicio personalmucha calidez casame ofrecieron upgrade habitacin as perfecto voy siempre volvera cada vez oportunidad muchas gracias',\n",
       "       'limpieza comodidad buen gusto amabilidad personal excepcin buena ubicacin desayuno exquisito excelente intrprete canciones arpa chip calentito mate cocido cortesa tarde qu ms puede pedir',\n",
       "       'excelente hotel destaca amabilidad personal restaurante recepcin excelente ubicacin dudas mejor hotel ciudad husped asiduo misin volvera dudarlo',\n",
       "       'calidad buen gusto amabilidad buen servicio valor acorde servicios otorgados buen acceso mejores lugares asuncin habitaciones comodas limpias realmente reconfortable recomendado cien ciento',\n",
       "       'excelente opcion relacion precio calidad buena atencion excelente ademas podria mejor ubicado servicio habitacion bueno igual opciones desayuno',\n",
       "       'hotel bonito tranquilo habitaciones bien equipadas completas tranquilas buena insonorizacin desayuno excelente msica directo espectacular casi dan ganas volver asuncin alojarse aqu',\n",
       "       'quedamos satisfechos pasamos bien atencin buena personal atento amable reconocido persona receptora despus dos meses haba all',\n",
       "       'hotel bonito bien situado tranquilo pequeo distinto grandes cadenas personal amable buen servicio desayuno excelente altamente recomendable moderno centro comercial frente hotel',\n",
       "       'lugar dudas lugar volver siempre excelencia calidad servicio personal todas necesidades satisfechas solucionadas instanteir restaurant experiencia vale pena',\n",
       "       'gran hotel impecable instalaciones personal formidabledesayuno natural gran calidadlo elijo cada ves viajo asuncinlo recomiendo hotel boutique detalles lindos decoracion',\n",
       "       'buena buen ambiente clido recibimiento parte personal hotel habitaciones cmodas desayuno exquisito limpieza excelente aspectos bien acomodado lugar cada cosa',\n",
       "       'excelente hotel acogedor buen gusto comodo buena ubicacion desayuno completo buena calidad servicios acordes categoria establecimiento recomendable viajes negocios escapadas pareja',\n",
       "       'calidez amabilidad atencin instalaciones adelantarse necesidades hacen hotel equipo transformen estancia laboral experiencia nica anso repetir',\n",
       "       'colchon increble habitacin detalles puede esperar agregar cuida auto abre puerta recepcin desayuno merece mejor calificacin amenities bao calidad toallas todooo perfecto inclusive anterior llegamos am permitieron ingresar habitacin check in',\n",
       "       'hotel ensueo decoracin romntica elegante impecable ambientes decorados estilo da gusto volver cada vez q hacemos placer continuar yendo flia q disfruta cada rincn soado hotel',\n",
       "       'sper relajada placentera impecable atendieron sper habitacin limpieza extrema comodisima desayuno sper completo riqusimo solo do da llegamos cerca horario fin desayuno reponan haba punto mejorar modos atencin buensima staff sper amable excelente ubicado frente shopping mariscal cerca buena oferta gastronmica volveremos precio justifica cada minuto',\n",
       "       'hablar alojamientos asuncin siempre cuento hermosas experiencias hotel calidez atencin esmerada cocina excelente habitaciones cmodas impecablemente decoradas resto hotel hacen nico dulce sonido arpa da desayunos toque inigualable',\n",
       "       'encanto mision habitaciones comodisimas acogedoras servicio comedor excelente comida exquisite empleados sumamente amables hicieron sentir casa ayudaron pasar estadia inolvidable',\n",
       "       'puntillosos detalles decoracin ambientes comunes habitaciones servicios extraordinarios mas agrada predisposicin personal solucionar cualquier inconveniente inquietud aun mas disparatados siempre sonrisa amabilidad',\n",
       "       'empleados atentos amables trato servicio atendieron siempre esmero respeto cosa vemos hoteles travs mundo sentimos seguros relajados',\n",
       "       'seria bueno dejar tazas cafe alcanze huespedes desayuno aunque atendientes estan siempre listos atender cualquier pedido huesped acontecio lleno comedor desayunar cafe',\n",
       "       'servicios primer orden sentimos bien acogidos atentos necesitamos servicio desayuno buffetexcelente as tambien menu comidasestuvimos encantados hotelmuchas gracias dios mediante volveremos',\n",
       "       'viajo asiduamente negocios asuncin siempre quedo misin limpio bien ubicado excelente calidad precio comedido estrellas ostentaciones restaurante excelente desayuno aceptable',\n",
       "       'buen servicio tranquilidad buena ubicacin desayuno perfecto agradable piscina agradable gimnasio completo habitaciones perfectas wifi funciona genial s qu ms decir repetir',\n",
       "       'hotel lindo cada abitacin proprio estilo todas lindas gusta ms perfecta organisacin nico hotel est preparado llegada datos necesito rellenar formularios pasa hotel an si muchas veces',\n",
       "       'siempre placer hospedarse hotel atencin excelente valet parking funcionarios comidas bebidas excelentes ubicacin excelente cerca recomendado siempre congrats',\n",
       "       'lejos mejor hoteles convertido preferido lugar hermoso espacios comodos calidos bellos comida buena atencin excelente dos conocidos hoteles estrellas asuncin lejos mejor',\n",
       "       'mejor opcin alojarte asuncin instalaciones buenas habitaciones confortables personal amable siempre dispuestos asistirte pudieres necesitar',\n",
       "       'mejor opcin alojarte asuncin buenas instalaciones habitaciones confortables calidad personal increble atentos dispuestos asistirte puedas necesitar',\n",
       "       'staff hotel amable atento comida primer nivel integrando tpicas paraguay precio va acorde servicio dan habitacin pesar ser menor categoria amplia cmoda recomendado',\n",
       "       'varias veces hotel asuncin solos pareja hijos chicos atencin personal excelente estn atentos necesite comida restaurant excelente desayuno variado buena calidad pileta terraza cmoda nadar decorado buen gusto camas comodsimas enfrente shopping si pudiera recomendar agregar sera sauna seco seguramente volveremos encanta',\n",
       "       'pasamos dos das asuncion hotel agradable cmodas amplias habitaciones buen servicio personal adems ubicado enfrente nuevo shopping mariscal mejor barrio ciudad si bien cochera edificio acomodaron vehculo valer parking',\n",
       "       'ingresas hotel notas atencin habitaciones amplias impecables desayuno magnifico bien ubicado ciudad principales centros comerciales cerca',\n",
       "       'momento sentimos especialmente atendidos encant clima intimidad vive cada estancia hotel lejos masivo hoteles estrellas cordialidad trato servicios impecables',\n",
       "       'encantaron habitaciones apariencia hotel general asimismo ubicacin ideal servicio bueno falt loss encargados hagan seguiimiento llegada vuelos vuelo lima cancel embarcaron vuelo via buenos aires vez am llegamos asuncin horas ms tarde hotel cobr dlares traslado aeropuerto hotel aunque servicio di',\n",
       "       'recomendara siempre cada vez voy paso bien amables habitacin siempre confortable comida primera calidad ubicacin cntrica cerca vez tranquila',\n",
       "       'bien atencin excelente calidez buena predisposicin atencin desayuno excelente tambin habitaciones confortables agradables recomendaria amigo familia dudar creo servicio personal merecen',\n",
       "       'bonita experiencia hotel mucha amabilidad eficiencia buena comida buen internet fin cero quejas ademas ubicado buena zona capital cerca',\n",
       "       'hermoso lugar buena ubicacin servicio primer nivel mucha calidad humana encant desayuno abundante variado servicio personalizado decoracin lugar entero gusto',\n",
       "       'perfecto pueda criticar amabilidad atencin sentimos casa ms mimados placer mission cada detalle cuidan felicitacionesrecomiendo dudar hotelflia zelaya oviedo',\n",
       "       'excelente atencin desayuno mucha variedad buen servicio rea pileta punto negativo snack sndwiches verduras servido preparacin novia precaria cantidad buena cantidad bebidas confortables instalaciones',\n",
       "       'calidez atencion recibida huespedes permite sienta casa esfuerzo cada forman parte gran equipo hace estadia formidable realmente pueda descansar corazon asuncion muchas gracias marcela',\n",
       "       'hotel confortable bien ubicad barrio villa morra frente shopping mariscal personal excelente siempre pendiente darte mejor nivel edificio primera hotel boutique debe ser',\n",
       "       'recomiendo altamente buscan hotel elevada categora ptimas acomodaciones servicios alto nivel excelente ubicacin buena atencion viajero roof top experiencia relajante',\n",
       "       'aqu encuentra mejor atencin hotelera bellamente enmarcada captulo especial historia paraguay misiones jesuticas excelente ubicacin fina gastronoma sobresaliente atencin gran comodidad aseguran pasajero haber elegido mejores hoteles asuncin',\n",
       "       'excelente atencin instalaciones comodidad limpieza personal amable atento impecable estacionamiento siempre disponible personal cargo cordial buena ubicacin si bien zona cntrica alejado ruidos',\n",
       "       'realmente disfrutamos pareja noches hotel fantstico llegada retirarnos pudimos comprobar excelente trato amabilidad personal adems habitacin necesario decoracin mas agradable estructura mantenimiento limpieza realmente felicitar desayuno sper completo platos restaurante perfectamente preparados servidos ubicacin vacaciones paseando excelente cruzando calle encuentra shopping mariscal lpez existen negocios farmacia casas cambio generalmente pasajero aprecia tener cerca nico inconveniente retirarnos revisar cuenta haba error comanda restaurante vez mas personal recepcin resolvi rapidez eficacia relacin costoservicio excelente recomendamos duda volveramos alojarnos',\n",
       "       'buena excelente buena ubicacin cerca centros comerciales personal atento desayuno servicio almuerzo cena buenos servicio bar bien sector pileta natacin bueno',\n",
       "       'pas familia celebracin ao nuevo sobrepasado totalmente expectativas calidad cario reflejan detalles hotel calidez profesionalidad equipo conforman gerencia comercial srta alexa digno sealar restaurante fantstico encantados eleccin tomamos duda volveremos',\n",
       "       'amabilidad personal excepcin hace hotel destaque dems infraestructura inmejorable ubicacin igual habitaciones superiores cordialidad gente marca diferencia'],\n",
       "      dtype='<U1765')"
      ]
     },
     "execution_count": 6,
     "metadata": {},
     "output_type": "execute_result"
    }
   ],
   "source": [
    "norm_corpus = normalize_corpus(corpus)\n",
    "norm_corpus"
   ]
  },
  {
   "cell_type": "markdown",
   "id": "976bded4",
   "metadata": {},
   "source": [
    "3. Divida el conjunto de documentos en un subconjunto de entrenamiento y otro de evaluación."
   ]
  },
  {
   "cell_type": "code",
   "execution_count": 7,
   "id": "2beb473d",
   "metadata": {},
   "outputs": [],
   "source": [
    "# División mediante train_test_split. Test de 25%\n",
    "\n",
    "from sklearn.model_selection import train_test_split\n",
    "docs_train, docs_test, categs_train, categs_test = train_test_split(norm_corpus, categs, test_size = 0.25, \n",
    "                                                                    random_state = 0)"
   ]
  },
  {
   "cell_type": "markdown",
   "id": "00eeddf5",
   "metadata": {},
   "source": []
  },
  {
   "cell_type": "markdown",
   "id": "d9fc2177",
   "metadata": {},
   "source": [
    "4. Convierta el corpus de documentos en una matriz TF-idf. Lo más cómodo es utilizar el vectorizador TfidfVectorizer, que forma parte de sklearn. ¿Tiene influencia en el resultado final el número máximo de features a utilizar?"
   ]
  },
  {
   "cell_type": "code",
   "execution_count": 8,
   "id": "9350c2c8",
   "metadata": {},
   "outputs": [],
   "source": [
    "# Create feature vectors\n",
    "vectorizer = TfidfVectorizer(min_df = 5,\n",
    "                             max_df = 0.8,\n",
    "                             sublinear_tf = True,\n",
    "                             use_idf = True)\n",
    "train_vectors = vectorizer.fit_transform(docs_train)\n",
    "test_vectors = vectorizer.transform(docs_test)"
   ]
  },
  {
   "cell_type": "markdown",
   "id": "60b5e02b",
   "metadata": {},
   "source": [
    "Hacemos un print del vocabulario que ha aprendido el corpus"
   ]
  },
  {
   "cell_type": "code",
   "execution_count": 9,
   "id": "357cc5a5",
   "metadata": {},
   "outputs": [
    {
     "name": "stdout",
     "output_type": "stream",
     "text": [
      "{'hotel': 82, 'mision': 101, 'siempre': 138, 'servicio': 134, 'personal': 115, 'super': 140, 'amable': 5, 'desayuno': 51, 'buen': 21, 'restaurante': 130, 'buena': 22, 'piscina': 117, 'nico': 106, 'gimnasio': 69, 'gran': 70, 'confortable': 44, 'mejor': 97, 'ubicacin': 153, 'gente': 68, 'asuncin': 10, 'comida': 38, 'excelente': 63, 'terraza': 146, 'tranquilo': 151, 'habitaciones': 77, 'general': 67, 'ideal': 84, 'bueno': 24, 'buenos': 25, 'vez': 159, 'am': 3, 'ms': 102, 'tarde': 143, 'trabajo': 150, 'hermoso': 81, 'calidez': 28, 'habitacion': 76, 'hacen': 79, 'comodo': 42, 'restaurant': 129, 'tambien': 141, 'ambiente': 7, 'impecable': 86, 'cama': 29, 'comodas': 40, 'altamente': 2, 'familia': 65, 'mas': 96, 'ser': 133, 'cada': 26, 'mejorar': 98, 'parte': 111, 'cmodas': 36, 'limpieza': 90, 'bien': 18, 'lugar': 94, 'cosa': 46, 'trato': 152, 'atentos': 15, 'variado': 156, 'solo': 139, 'pequeo': 113, 'poca': 118, 'agradable': 1, 'atencion': 13, 'todas': 149, 'instalaciones': 88, 'habitacin': 75, 'limpio': 91, 'servicios': 135, 'recepcin': 126, 'atencin': 12, 'pasamos': 112, 'dos': 56, 'das': 49, 'asuncion': 11, 'amplias': 8, 'ubicado': 155, 'nuevo': 109, 'shopping': 136, 'mariscal': 95, 'barrio': 17, 'ciudad': 35, 'si': 137, 'amabilidad': 4, 'cuenta': 47, 'hacer': 80, 'calidad': 27, 'gusto': 72, 'mejores': 99, 'limpias': 89, 'realmente': 125, 'recomendado': 128, 'noche': 108, 'volver': 161, 'habia': 74, 'carta': 30, 'tener': 144, 'detalles': 54, 'puede': 122, 'bao': 16, 'perfecto': 114, 'check': 34, 'in': 87, 'experiencia': 64, 'cerca': 33, 'comidas': 39, 'ruido': 131, 'primera': 121, 'tiempo': 147, 'verdad': 158, 'puntos': 124, 'negocios': 105, 'est': 60, 'bonito': 19, 'decoracin': 50, 'boutique': 20, 'grande': 71, 'da': 48, 'nivel': 107, 'tipo': 148, 'atento': 14, 'espectacular': 59, 'paraguay': 110, 'destacar': 52, 'recomendable': 127, 'ubicacion': 154, 'tambin': 142, 'hace': 78, 'frente': 66, 'arpa': 9, 'completo': 43, 'linda': 92, 'mucha': 103, 'zona': 163, 'lindo': 93, 'comodidad': 41, 'disponible': 55, 'punto': 123, 'vista': 160, 'buenas': 23, 'encanto': 57, 'pileta': 116, 'haba': 73, 'encuentra': 58, 'comercial': 37, 'hoteles': 83, 'necesario': 104, 'estilo': 62, 'acogedor': 0, 'estadia': 61, 'veces': 157, 'detalle': 53, 'tenia': 145, 'semana': 132, 'amables': 6, 'casi': 31, 'centro': 32, 'precio': 119, 'primer': 120, 'volveremos': 162, 'igual': 85, 'cordialidad': 45, 'misin': 100}\n"
     ]
    }
   ],
   "source": [
    "print(vectorizer.vocabulary_)"
   ]
  },
  {
   "cell_type": "markdown",
   "id": "a23803e1",
   "metadata": {},
   "source": [
    "Imprimo los datos vectorizados para ver cómo se ven"
   ]
  },
  {
   "cell_type": "code",
   "execution_count": 10,
   "id": "52fd9864",
   "metadata": {},
   "outputs": [
    {
     "name": "stdout",
     "output_type": "stream",
     "text": [
      "  (0, 69)\t0.3063646977399018\n",
      "  (0, 106)\t0.32702307270222525\n",
      "  (0, 117)\t0.3439021940650491\n",
      "  (0, 22)\t0.2067369389096589\n",
      "  (0, 130)\t0.26679241934919967\n",
      "  (0, 21)\t0.22277823684260212\n",
      "  (0, 51)\t0.1691994425845117\n",
      "  (0, 5)\t0.30038979521046955\n",
      "  (0, 140)\t0.3350784865434649\n",
      "  (0, 115)\t0.17204824757666357\n",
      "  (0, 134)\t0.19490227146891975\n",
      "  (0, 138)\t0.2752144826089034\n",
      "  (0, 101)\t0.353656350193981\n",
      "  (0, 82)\t0.133551376270818\n",
      "  (1, 151)\t0.36548675245158657\n",
      "  (1, 146)\t0.31305898329659787\n",
      "  (1, 63)\t0.15808059185258186\n",
      "  (1, 38)\t0.2531051575057866\n",
      "  (1, 10)\t0.2455791008699641\n",
      "  (1, 68)\t0.3304160125891931\n",
      "  (1, 153)\t0.21050836100757056\n",
      "  (1, 97)\t0.42854428381610343\n",
      "  (1, 44)\t0.35215347596558455\n",
      "  (1, 70)\t0.3304160125891931\n",
      "  (1, 134)\t0.18209437310545695\n",
      "  :\t:\n",
      "  (147, 134)\t0.17026872850735572\n",
      "  (148, 100)\t0.3548921784958716\n",
      "  (148, 62)\t0.36832914806043576\n",
      "  (148, 52)\t0.3548921784958716\n",
      "  (148, 4)\t0.28845813685060934\n",
      "  (148, 12)\t0.2074325688855664\n",
      "  (148, 118)\t0.36832914806043576\n",
      "  (148, 156)\t0.32380162234965126\n",
      "  (148, 18)\t0.18890406398545737\n",
      "  (148, 25)\t0.32380162234965126\n",
      "  (148, 130)\t0.2511987992711645\n",
      "  (148, 115)\t0.16199228341416358\n",
      "  (148, 82)\t0.1257454969750497\n",
      "  (149, 100)\t0.35627810795433423\n",
      "  (149, 119)\t0.36976755174369225\n",
      "  (149, 105)\t0.34459302024053545\n",
      "  (149, 27)\t0.24845547007926766\n",
      "  (149, 155)\t0.30210712009646606\n",
      "  (149, 91)\t0.36976755174369225\n",
      "  (149, 18)\t0.18964177454366227\n",
      "  (149, 63)\t0.27078862860284914\n",
      "  (149, 10)\t0.24845547007926766\n",
      "  (149, 130)\t0.25217978402353597\n",
      "  (149, 51)\t0.159932126227382\n",
      "  (149, 138)\t0.26014055779306633\n"
     ]
    }
   ],
   "source": [
    "print(train_vectors)"
   ]
  },
  {
   "cell_type": "markdown",
   "id": "a216dfda",
   "metadata": {},
   "source": [
    "5. Llegados a este punto, realice modelos de entrenamiento al menos con algoritmos de clasificador bayesiano ingenuo y máquinas SVM. Obtenga resultados de precisión de la clasificación, así como las matrices de confusión para ambos modelos."
   ]
  },
  {
   "cell_type": "code",
   "execution_count": 11,
   "id": "181297b1",
   "metadata": {},
   "outputs": [
    {
     "data": {
      "text/plain": [
       "MultinomialNB()"
      ]
     },
     "execution_count": 11,
     "metadata": {},
     "output_type": "execute_result"
    }
   ],
   "source": [
    "# Entrenamiento del clasificador Naive Bayes\n",
    "\n",
    "from sklearn.naive_bayes import MultinomialNB\n",
    "clf = MultinomialNB()\n",
    "clf.fit(train_vectors, categs_train)"
   ]
  },
  {
   "cell_type": "code",
   "execution_count": 12,
   "id": "0921c7fc",
   "metadata": {},
   "outputs": [],
   "source": [
    "# Predicción del set de test\n",
    "\n",
    "categs_pred = clf.predict(test_vectors)"
   ]
  },
  {
   "cell_type": "code",
   "execution_count": 13,
   "id": "07cce89b",
   "metadata": {},
   "outputs": [
    {
     "data": {
      "text/plain": [
       "array([[21,  4],\n",
       "       [12, 13]])"
      ]
     },
     "execution_count": 13,
     "metadata": {},
     "output_type": "execute_result"
    }
   ],
   "source": [
    "# Confusion Matrix\n",
    "\n",
    "from sklearn.metrics import confusion_matrix\n",
    "cm = confusion_matrix(categs_test, categs_pred)\n",
    "cm"
   ]
  },
  {
   "cell_type": "code",
   "execution_count": 14,
   "id": "978dc936",
   "metadata": {},
   "outputs": [
    {
     "name": "stdout",
     "output_type": "stream",
     "text": [
      "Naive Bayes Accuracy Score ->  68.0\n"
     ]
    }
   ],
   "source": [
    "# Use accuracy_score function to get the accuracy\n",
    "print(\"Naive Bayes Accuracy Score -> \",accuracy_score(categs_pred, categs_test)*100)"
   ]
  },
  {
   "cell_type": "code",
   "execution_count": 15,
   "id": "7e5e3179",
   "metadata": {},
   "outputs": [],
   "source": [
    "# Entrenamiento con Support Vector Machine\n",
    "\n",
    "from sklearn import svm\n",
    "from sklearn.metrics import classification_report\n",
    "# Perform classification with SVM, kernel=linear\n",
    "classifier_linear = svm.SVC(kernel='linear')\n",
    "\n",
    "classifier_linear.fit(train_vectors, categs_train)\n",
    "\n",
    "prediction_linear = classifier_linear.predict(test_vectors)\n"
   ]
  },
  {
   "cell_type": "code",
   "execution_count": 16,
   "id": "3166d17f",
   "metadata": {},
   "outputs": [
    {
     "data": {
      "text/plain": [
       "array([[20,  5],\n",
       "       [10, 15]])"
      ]
     },
     "execution_count": 16,
     "metadata": {},
     "output_type": "execute_result"
    }
   ],
   "source": [
    "## Matriz de confusión\n",
    "\n",
    "cm = confusion_matrix(categs_test, prediction_linear)\n",
    "cm"
   ]
  },
  {
   "cell_type": "code",
   "execution_count": 17,
   "id": "deb64ed6",
   "metadata": {},
   "outputs": [
    {
     "name": "stdout",
     "output_type": "stream",
     "text": [
      "SVM Accuracy Score ->  70.0\n"
     ]
    }
   ],
   "source": [
    "# Use accuracy_score function to get the accuracy\n",
    "print(\"SVM Accuracy Score -> \",accuracy_score(prediction_linear, categs_test)*100)"
   ]
  },
  {
   "cell_type": "markdown",
   "id": "480792e5",
   "metadata": {},
   "source": [
    "Podemos observar que el SVM machine predice mejor que el modelo Naive Bayes ya que consigue mejor accuracy"
   ]
  },
  {
   "cell_type": "markdown",
   "id": "8f0ab898",
   "metadata": {},
   "source": [
    "6. Comente los resultados obtenidos. ¿Qué factores influyen? ¿Los resultados obtenidos son los esperados inicialmente? ¿A qué se deben estos resultados? Piense en la calidad del conjunto de datos con los que está trabajando"
   ]
  },
  {
   "cell_type": "markdown",
   "id": "61448555",
   "metadata": {},
   "source": [
    "Luego de haber probado los algoritmos de clasifiacacion Naive Bayes y el Support Vector Machine, podemos observar que utilizando el accuracy como metrica para comparar los resultados, el modelo que mejor predice es el SVM.\n",
    "\n",
    "Inicialmente me esperaba que el SVM pueda conseguir mejores resultados ya que su algoritmo esta diseñado para separar variables que no tienen relaciones lineales. Esto se logra a traves de los kernel que le pasamos al modelo.\n",
    "\n",
    "El preprocesamiento de los datos juega un factor fundamental en estos resultados como en cualquier proceso de minería de datos. Al transformar los datos sin procesar (usualmente incompletos, inconsistentes o que carecen de de ciertos comportamientos o tendencias) en un formato comprensible para los modelos de PNL, nos ayuda a obtener mejores resultados con los algoritmos de clasificación."
   ]
  }
 ],
 "metadata": {
  "kernelspec": {
   "display_name": "Python 3",
   "language": "python",
   "name": "python3"
  },
  "language_info": {
   "codemirror_mode": {
    "name": "ipython",
    "version": 3
   },
   "file_extension": ".py",
   "mimetype": "text/x-python",
   "name": "python",
   "nbconvert_exporter": "python",
   "pygments_lexer": "ipython3",
   "version": "3.8.5"
  },
  "toc": {
   "base_numbering": 1,
   "nav_menu": {},
   "number_sections": true,
   "sideBar": true,
   "skip_h1_title": false,
   "title_cell": "Table of Contents",
   "title_sidebar": "Contents",
   "toc_cell": false,
   "toc_position": {},
   "toc_section_display": true,
   "toc_window_display": false
  }
 },
 "nbformat": 4,
 "nbformat_minor": 5
}
