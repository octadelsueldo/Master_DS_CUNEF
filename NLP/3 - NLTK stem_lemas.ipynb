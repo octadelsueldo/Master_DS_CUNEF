{
 "cells": [
  {
   "cell_type": "code",
   "execution_count": 1,
   "metadata": {},
   "outputs": [],
   "source": [
    "## Importaciones\n",
    "\n",
    "import nltk, re, pprint\n",
    "from nltk.stem import SnowballStemmer\n",
    "from nltk.stem import WordNetLemmatizer"
   ]
  },
  {
   "cell_type": "code",
   "execution_count": 3,
   "metadata": {},
   "outputs": [
    {
     "name": "stdout",
     "output_type": "stream",
     "text": [
      "Cuando los cines parecen recuperar su músculo, llega a las salas de España la película \"Los Estados Unidos contra Billie Holiday\", el desalentador retrato del director Lee Daniels sobre la persecución del Gobierno Federal de Estados Unidos a la gran cantante de jazz desde 1947 hasta su muerte en 1959 a la edad de 44 años. El título de la cinta toma como referencia una frase de la artista, que ingresó en prisión durante un año por un cargo de posesión de narcóticos en el apogeo de su carrera: El caso se llama \"Los Estados Unidos de América contra Billie Holiday\". Está basado en un capítulo del libro \"Tras el grito\"\n",
      "\n",
      "This week, a Filipino woman was attacked in Midtown Manhattan during broad daylight. This assault came on the heels of the Atlanta-area shooting in which six women of Asian descent were killed and amid reports of rising crime against Asians. One group, Stop AAPI Hate, received nearly 3,800 accounts of incidents nationally between March 19, 2020, and Feb. 28. The poet and author Cathy Park Hong notes that these events have set off outrage in the Asian-American community. Her essay collection “Minor Feelings: An Asian-American Reckoning” wrestles with how discrimination against Asians is often left out in conversations about race in the United States. “We have also been victims to systemic racism throughout history,” Ms. Hong says, “but we have been conditioned to pretend that it doesn’t exist, to minimize it.”\n"
     ]
    }
   ],
   "source": [
    "## Leemos los fichero\n",
    "\n",
    "espa=open(\"/Users/octaviodelsueldo/Documents/CUNEF/DS para la Gestion de Informacion no Estructurada/Actividades/Actividad 1. POS y Extracciçon de Entidades/esp.txt\", \"r\").read()\n",
    "print(espa)\n",
    "engl=open(\"/Users/octaviodelsueldo/Documents/CUNEF/DS para la Gestion de Informacion no Estructurada/Actividades/Actividad 1. POS y Extracciçon de Entidades/ing.txt\",\"r\").read()\n",
    "print(engl)"
   ]
  },
  {
   "cell_type": "code",
   "execution_count": 4,
   "metadata": {},
   "outputs": [
    {
     "name": "stdout",
     "output_type": "stream",
     "text": [
      "Separación de frases\n",
      "This week, a Filipino woman was attacked in Midtown Manhattan during broad daylight.\n",
      "This assault came on the heels of the Atlanta-area shooting in which six women of Asian descent were killed and amid reports of rising crime against Asians.\n",
      "One group, Stop AAPI Hate, received nearly 3,800 accounts of incidents nationally between March 19, 2020, and Feb. 28.\n",
      "The poet and author Cathy Park Hong notes that these events have set off outrage in the Asian-American community.\n",
      "Her essay collection “Minor Feelings: An Asian-American Reckoning” wrestles with how discrimination against Asians is often left out in conversations about race in the United States.\n",
      "“We have also been victims to systemic racism throughout history,” Ms. Hong says, “but we have been conditioned to pretend that it doesn’t exist, to minimize it.”\n"
     ]
    }
   ],
   "source": [
    "## Separación de frases\n",
    "\n",
    "print(\"Separación de frases\")\n",
    "sent_tokenizer=nltk.data.load('tokenizers/punkt/english.pickle')\n",
    "\n",
    "sents = sent_tokenizer.tokenize(engl)\n",
    "for sent in sents:\n",
    "    print(sent)"
   ]
  },
  {
   "cell_type": "code",
   "execution_count": 6,
   "metadata": {},
   "outputs": [
    {
     "name": "stderr",
     "output_type": "stream",
     "text": [
      "[nltk_data] Downloading package averaged_perceptron_tagger to\n",
      "[nltk_data]     /Users/octaviodelsueldo/nltk_data...\n"
     ]
    },
    {
     "name": "stdout",
     "output_type": "stream",
     "text": [
      "[[('This', 'DT'), ('week', 'NN'), (',', ','), ('a', 'DT'), ('Filipino', 'NNP'), ('woman', 'NN'), ('was', 'VBD'), ('attacked', 'VBN'), ('in', 'IN'), ('Midtown', 'NNP'), ('Manhattan', 'NNP'), ('during', 'IN'), ('broad', 'JJ'), ('daylight', 'NN'), ('.', '.')], [('This', 'DT'), ('assault', 'NN'), ('came', 'VBD'), ('on', 'IN'), ('the', 'DT'), ('heels', 'NNS'), ('of', 'IN'), ('the', 'DT'), ('Atlanta-area', 'NNP'), ('shooting', 'NN'), ('in', 'IN'), ('which', 'WDT'), ('six', 'CD'), ('women', 'NNS'), ('of', 'IN'), ('Asian', 'JJ'), ('descent', 'NN'), ('were', 'VBD'), ('killed', 'VBN'), ('and', 'CC'), ('amid', 'IN'), ('reports', 'NNS'), ('of', 'IN'), ('rising', 'VBG'), ('crime', 'NN'), ('against', 'IN'), ('Asians', 'NNPS'), ('.', '.')], [('One', 'CD'), ('group', 'NN'), (',', ','), ('Stop', 'NNP'), ('AAPI', 'NNP'), ('Hate', 'NNP'), (',', ','), ('received', 'VBD'), ('nearly', 'RB'), ('3,800', 'CD'), ('accounts', 'NNS'), ('of', 'IN'), ('incidents', 'NNS'), ('nationally', 'RB'), ('between', 'IN'), ('March', 'NNP'), ('19', 'CD'), (',', ','), ('2020', 'CD'), (',', ','), ('and', 'CC'), ('Feb.', 'NNP'), ('28', 'CD'), ('.', '.')], [('The', 'DT'), ('poet', 'NN'), ('and', 'CC'), ('author', 'NN'), ('Cathy', 'NNP'), ('Park', 'NNP'), ('Hong', 'NNP'), ('notes', 'NNS'), ('that', 'IN'), ('these', 'DT'), ('events', 'NNS'), ('have', 'VBP'), ('set', 'VBN'), ('off', 'RP'), ('outrage', 'NN'), ('in', 'IN'), ('the', 'DT'), ('Asian-American', 'NNP'), ('community', 'NN'), ('.', '.')], [('Her', 'PRP$'), ('essay', 'NN'), ('collection', 'NN'), ('“', 'NNP'), ('Minor', 'NNP'), ('Feelings', 'NNP'), (':', ':'), ('An', 'DT'), ('Asian-American', 'JJ'), ('Reckoning', 'NNP'), ('”', 'NN'), ('wrestles', 'NNS'), ('with', 'IN'), ('how', 'WRB'), ('discrimination', 'NN'), ('against', 'IN'), ('Asians', 'NNPS'), ('is', 'VBZ'), ('often', 'RB'), ('left', 'VBN'), ('out', 'RP'), ('in', 'IN'), ('conversations', 'NNS'), ('about', 'IN'), ('race', 'NN'), ('in', 'IN'), ('the', 'DT'), ('United', 'NNP'), ('States', 'NNPS'), ('.', '.')], [('“', 'NN'), ('We', 'PRP'), ('have', 'VBP'), ('also', 'RB'), ('been', 'VBN'), ('victims', 'NNS'), ('to', 'TO'), ('systemic', 'VB'), ('racism', 'NN'), ('throughout', 'IN'), ('history', 'NN'), (',', ','), ('”', 'VBZ'), ('Ms.', 'NNP'), ('Hong', 'NNP'), ('says', 'VBZ'), (',', ','), ('“', \"''\"), ('but', 'CC'), ('we', 'PRP'), ('have', 'VBP'), ('been', 'VBN'), ('conditioned', 'VBN'), ('to', 'TO'), ('pretend', 'VB'), ('that', 'IN'), ('it', 'PRP'), ('doesn', 'VBZ'), ('’', 'JJ'), ('t', 'NNS'), ('exist', 'VBP'), (',', ','), ('to', 'TO'), ('minimize', 'VB'), ('it', 'PRP'), ('.', '.'), ('”', 'VB')]]\n"
     ]
    },
    {
     "name": "stderr",
     "output_type": "stream",
     "text": [
      "[nltk_data]   Unzipping taggers/averaged_perceptron_tagger.zip.\n"
     ]
    }
   ],
   "source": [
    "import nltk\n",
    "nltk.download('averaged_perceptron_tagger')\n",
    "## Part of Speech (Análisis morfológico)\n",
    "\n",
    "# Tokenizamos por frases, no todo el texto\n",
    "\n",
    "tokens = [nltk.word_tokenize(sent) for sent in sents]\n",
    "\n",
    "tokens_tagged = [nltk.pos_tag(token) for token in tokens]\n",
    "print(tokens_tagged)"
   ]
  },
  {
   "cell_type": "code",
   "execution_count": 9,
   "metadata": {},
   "outputs": [
    {
     "name": "stderr",
     "output_type": "stream",
     "text": [
      "[nltk_data] Downloading package maxent_ne_chunker to\n",
      "[nltk_data]     /Users/octaviodelsueldo/nltk_data...\n",
      "[nltk_data]   Package maxent_ne_chunker is already up-to-date!\n",
      "[nltk_data] Downloading package words to\n",
      "[nltk_data]     /Users/octaviodelsueldo/nltk_data...\n"
     ]
    },
    {
     "name": "stdout",
     "output_type": "stream",
     "text": [
      "(S\n",
      "  This/DT\n",
      "  week/NN\n",
      "  ,/,\n",
      "  a/DT\n",
      "  (GPE Filipino/NNP)\n",
      "  woman/NN\n",
      "  was/VBD\n",
      "  attacked/VBN\n",
      "  in/IN\n",
      "  (GPE Midtown/NNP)\n",
      "  Manhattan/NNP\n",
      "  during/IN\n",
      "  broad/JJ\n",
      "  daylight/NN\n",
      "  ./.)\n",
      "(S\n",
      "  This/DT\n",
      "  assault/NN\n",
      "  came/VBD\n",
      "  on/IN\n",
      "  the/DT\n",
      "  heels/NNS\n",
      "  of/IN\n",
      "  the/DT\n",
      "  Atlanta-area/NNP\n",
      "  shooting/NN\n",
      "  in/IN\n",
      "  which/WDT\n",
      "  six/CD\n",
      "  women/NNS\n",
      "  of/IN\n",
      "  (GPE Asian/JJ)\n",
      "  descent/NN\n",
      "  were/VBD\n",
      "  killed/VBN\n",
      "  and/CC\n",
      "  amid/IN\n",
      "  reports/NNS\n",
      "  of/IN\n",
      "  rising/VBG\n",
      "  crime/NN\n",
      "  against/IN\n",
      "  (GPE Asians/NNPS)\n",
      "  ./.)\n",
      "(S\n",
      "  One/CD\n",
      "  group/NN\n",
      "  ,/,\n",
      "  (PERSON Stop/NNP AAPI/NNP Hate/NNP)\n",
      "  ,/,\n",
      "  received/VBD\n",
      "  nearly/RB\n",
      "  3,800/CD\n",
      "  accounts/NNS\n",
      "  of/IN\n",
      "  incidents/NNS\n",
      "  nationally/RB\n",
      "  between/IN\n",
      "  March/NNP\n",
      "  19/CD\n",
      "  ,/,\n",
      "  2020/CD\n",
      "  ,/,\n",
      "  and/CC\n",
      "  Feb./NNP\n",
      "  28/CD\n",
      "  ./.)\n",
      "(S\n",
      "  The/DT\n",
      "  poet/NN\n",
      "  and/CC\n",
      "  author/NN\n",
      "  (PERSON Cathy/NNP Park/NNP Hong/NNP)\n",
      "  notes/NNS\n",
      "  that/IN\n",
      "  these/DT\n",
      "  events/NNS\n",
      "  have/VBP\n",
      "  set/VBN\n",
      "  off/RP\n",
      "  outrage/NN\n",
      "  in/IN\n",
      "  the/DT\n",
      "  Asian-American/NNP\n",
      "  community/NN\n",
      "  ./.)\n",
      "(S\n",
      "  Her/PRP$\n",
      "  essay/NN\n",
      "  collection/NN\n",
      "  “/NNP\n",
      "  Minor/NNP\n",
      "  Feelings/NNP\n",
      "  :/:\n",
      "  An/DT\n",
      "  Asian-American/JJ\n",
      "  Reckoning/NNP\n",
      "  ”/NN\n",
      "  wrestles/NNS\n",
      "  with/IN\n",
      "  how/WRB\n",
      "  discrimination/NN\n",
      "  against/IN\n",
      "  (GPE Asians/NNPS)\n",
      "  is/VBZ\n",
      "  often/RB\n",
      "  left/VBN\n",
      "  out/RP\n",
      "  in/IN\n",
      "  conversations/NNS\n",
      "  about/IN\n",
      "  race/NN\n",
      "  in/IN\n",
      "  the/DT\n",
      "  (GPE United/NNP States/NNPS)\n",
      "  ./.)\n",
      "(S\n",
      "  “/NN\n",
      "  We/PRP\n",
      "  have/VBP\n",
      "  also/RB\n",
      "  been/VBN\n",
      "  victims/NNS\n",
      "  to/TO\n",
      "  systemic/VB\n",
      "  racism/NN\n",
      "  throughout/IN\n",
      "  history/NN\n",
      "  ,/,\n",
      "  ”/VBZ\n",
      "  Ms./NNP\n",
      "  (GPE Hong/NNP)\n",
      "  says/VBZ\n",
      "  ,/,\n",
      "  “/''\n",
      "  but/CC\n",
      "  we/PRP\n",
      "  have/VBP\n",
      "  been/VBN\n",
      "  conditioned/VBN\n",
      "  to/TO\n",
      "  pretend/VB\n",
      "  that/IN\n",
      "  it/PRP\n",
      "  doesn/VBZ\n",
      "  ’/JJ\n",
      "  t/NNS\n",
      "  exist/VBP\n",
      "  ,/,\n",
      "  to/TO\n",
      "  minimize/VB\n",
      "  it/PRP\n",
      "  ./.\n",
      "  ”/VB)\n"
     ]
    },
    {
     "name": "stderr",
     "output_type": "stream",
     "text": [
      "[nltk_data]   Unzipping corpora/words.zip.\n"
     ]
    }
   ],
   "source": [
    "import nltk\n",
    "nltk.download('maxent_ne_chunker')\n",
    "nltk.download('words')\n",
    "## Extracción de entidades\n",
    "\n",
    "# Haremos un análisis adicional sobre los tokens de los que hemos hecho un análisis morfológico\n",
    "\n",
    "for token in tokens_tagged:\n",
    "    print(nltk.ne_chunk(token))"
   ]
  },
  {
   "cell_type": "code",
   "execution_count": null,
   "metadata": {},
   "outputs": [],
   "source": []
  }
 ],
 "metadata": {
  "kernelspec": {
   "display_name": "Python 3",
   "language": "python",
   "name": "python3"
  },
  "language_info": {
   "codemirror_mode": {
    "name": "ipython",
    "version": 3
   },
   "file_extension": ".py",
   "mimetype": "text/x-python",
   "name": "python",
   "nbconvert_exporter": "python",
   "pygments_lexer": "ipython3",
   "version": "3.8.5"
  },
  "toc": {
   "base_numbering": 1,
   "nav_menu": {},
   "number_sections": true,
   "sideBar": true,
   "skip_h1_title": false,
   "title_cell": "Table of Contents",
   "title_sidebar": "Contents",
   "toc_cell": false,
   "toc_position": {},
   "toc_section_display": true,
   "toc_window_display": false
  }
 },
 "nbformat": 4,
 "nbformat_minor": 4
}
