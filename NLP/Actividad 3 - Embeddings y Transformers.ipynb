{
 "cells": [
  {
   "cell_type": "markdown",
   "id": "198b185d",
   "metadata": {},
   "source": [
    "# ACTIVIDAD 4: EMBEDDINGS Y TRANSFORMERS"
   ]
  },
  {
   "cell_type": "markdown",
   "id": "402db40b",
   "metadata": {},
   "source": [
    "1.Objetivo\n",
    "\n",
    "El objetivo de esta práctica es comprobar la utilización de Embeddings y de Transformers mediante la elaboración de unos notebooks en Python.\n",
    "\n",
    "2.Guion de la actividad\n",
    "\n",
    "2.1. En primer lugar, instale la librería transformers de Humming Face. Dispone de instrucciones de instalación en el GitHub de la compañía, en https://github.com/huggingface/transformers.  Recomendamos utilizar la opción condapara instalarla.\n",
    "\n",
    "2.2 Cree  un  notebook  para  hacer  análisis  de  sentimientos y otro para encontrar respuestas a preguntas. Dispone de ejemplos en el github de Humming Face y en las trasparencias de claso"
   ]
  },
  {
   "cell_type": "markdown",
   "id": "a033efc4",
   "metadata": {},
   "source": [
    "## Desarrollo"
   ]
  },
  {
   "cell_type": "code",
   "execution_count": 2,
   "id": "1317b3a4",
   "metadata": {},
   "outputs": [
    {
     "data": {
      "application/vnd.jupyter.widget-view+json": {
       "model_id": "b25ba41a0e724f9f843149e47a60708b",
       "version_major": 2,
       "version_minor": 0
      },
      "text/plain": [
       "Downloading:   0%|          | 0.00/473 [00:00<?, ?B/s]"
      ]
     },
     "metadata": {},
     "output_type": "display_data"
    },
    {
     "data": {
      "application/vnd.jupyter.widget-view+json": {
       "model_id": "d53a1b55d50d40e0accc17d752fe7849",
       "version_major": 2,
       "version_minor": 0
      },
      "text/plain": [
       "Downloading:   0%|          | 0.00/261M [00:00<?, ?B/s]"
      ]
     },
     "metadata": {},
     "output_type": "display_data"
    },
    {
     "data": {
      "application/vnd.jupyter.widget-view+json": {
       "model_id": "3c769927c3424f24a21463bb6f8a6ff1",
       "version_major": 2,
       "version_minor": 0
      },
      "text/plain": [
       "Downloading:   0%|          | 0.00/213k [00:00<?, ?B/s]"
      ]
     },
     "metadata": {},
     "output_type": "display_data"
    },
    {
     "data": {
      "application/vnd.jupyter.widget-view+json": {
       "model_id": "644576cd9b7a4cddae06afc6095a6c51",
       "version_major": 2,
       "version_minor": 0
      },
      "text/plain": [
       "Downloading:   0%|          | 0.00/436k [00:00<?, ?B/s]"
      ]
     },
     "metadata": {},
     "output_type": "display_data"
    },
    {
     "data": {
      "application/vnd.jupyter.widget-view+json": {
       "model_id": "fa7c1fb0da1c439eb28b54045756a055",
       "version_major": 2,
       "version_minor": 0
      },
      "text/plain": [
       "Downloading:   0%|          | 0.00/29.0 [00:00<?, ?B/s]"
      ]
     },
     "metadata": {},
     "output_type": "display_data"
    }
   ],
   "source": [
    "from transformers import pipeline\n",
    "question_answerer = pipeline ('question-answering')"
   ]
  },
  {
   "cell_type": "markdown",
   "id": "b4ed01a1",
   "metadata": {},
   "source": [
    "2.6. Utilice el notebook de respuestas para preguntas sobre el siguiente texto:\n",
    "\n",
    "El palacio fue residencia de la familia real española, la basílica es lugar de sepultura de los reyes de España y el monasterio –fundado por monjes de la Orden  de  San  Jerónimo– está  ocupado  actualmente  por  frailes  de la Orden de San Agustín. Es una de las más singulares arquitecturas renacentistas de España y de Europa. Situado en San Lorenzo de El Escorial, ocupa una superficie de 33327 m², sobre la ladera meridional delmonte Abantos, a 1028m de altitud, en la sierra de Guadarrama. Está gestionado  por Patrimonio  Nacional. Conocido  también  como Monasterio de  San  Lorenzo  El  Real, o, sencillamente, El  Escorial, fue ideado en la segunda mitad del siglo XVI por el rey Felipe II y su arquitecto Juan Bautista de Toledo, aunque posteriormente intervinieron Juan de Herrera, Juan de Minjares, Giovanni Battista Castello El Bergamasco y Francisco de Mora. El rey  concibió  un  gran  complejo  multifuncional,  monacal  y  palaciego  que, plasmado  por  Juan  Bautista  de  Toledo  según  el  paradigma  de  la Traza Universal, dio origen alestilo herreriano.\n"
   ]
  },
  {
   "cell_type": "markdown",
   "id": "f9d0a8c1",
   "metadata": {},
   "source": [
    "## Pipeline de Question & Answer\n",
    "\n",
    "Se introduce como parámetro en context el texto que contiene la respuesta, y en question la pregunta a realizar"
   ]
  },
  {
   "cell_type": "markdown",
   "id": "ffc77d00",
   "metadata": {},
   "source": [
    "2.7. Realice las siguientes preguntas: \n",
    "\n",
    "• ¿Quién fue el arquitecto del Monasterio?"
   ]
  },
  {
   "cell_type": "code",
   "execution_count": 4,
   "id": "7c6fe7c3",
   "metadata": {},
   "outputs": [
    {
     "data": {
      "text/plain": [
       "{'score': 0.07486449182033539, 'start': 614, 'end': 622, 'answer': 'Conocido'}"
      ]
     },
     "execution_count": 4,
     "metadata": {},
     "output_type": "execute_result"
    }
   ],
   "source": [
    "question_answerer({'context' : 'El palacio fue residencia de la familia real española, la basílica es lugar\\\n",
    "                de sepultura de los reyes de España y el monasterio –fundado por monjes de la Orden  de  San\\\n",
    "                Jerónimo– está  ocupado  actualmente  por  frailes  de la Orden de San Agustín. Es una de las\\\n",
    "                más singulares arquitecturas renacentistas de España y de Europa. Situado en San Lorenzo de El\\\n",
    "                Escorial, ocupa una superficie de 33327 m², sobre la ladera meridional del monte Abantos, a 1028m\\\n",
    "                de altitud, en la sierra de Guadarrama. Está gestionado  por Patrimonio  Nacional. Conocido\\\n",
    "                también  como Monasterio de  San  Lorenzo  El  Real, o, sencillamente, El  Escorial, fue ideado\\\n",
    "                en la segunda mitad del siglo XVI por el rey Felipe II y su arquitecto Juan Bautista de Toledo,\\\n",
    "                aunque posteriormente intervinieron Juan de Herrera, Juan de Minjares, Giovanni Battista Castello\\\n",
    "                El Bergamasco y Francisco de Mora. El rey  concibió  un  gran  complejo  multifuncional,  monacal\\\n",
    "                y  palaciego  que, plasmado  por  Juan  Bautista  de  Toledo  según  el  paradigma  de  la Traza\\\n",
    "                Universal, dio origen alestilo herreriano.',\n",
    "                'question' : '¿Quién fue el arquitecto del Monasterio?'})"
   ]
  },
  {
   "cell_type": "code",
   "execution_count": 9,
   "id": "5fcfe3da",
   "metadata": {},
   "outputs": [
    {
     "data": {
      "text/plain": [
       "{'score': 0.004854765720665455,\n",
       " 'start': 794,\n",
       " 'end': 803,\n",
       " 'answer': 'Felipe II'}"
      ]
     },
     "execution_count": 9,
     "metadata": {},
     "output_type": "execute_result"
    }
   ],
   "source": [
    "question_answerer({'context' : 'El palacio fue residencia de la familia real española, la basílica es lugar\\\n",
    "                de sepultura de los reyes de España y el monasterio –fundado por monjes de la Orden  de  San\\\n",
    "                Jerónimo– está  ocupado  actualmente  por  frailes  de la Orden de San Agustín. Es una de las\\\n",
    "                más singulares arquitecturas renacentistas de España y de Europa. Situado en San Lorenzo de El\\\n",
    "                Escorial, ocupa una superficie de 33327 m², sobre la ladera meridional del monte Abantos, a 1028m\\\n",
    "                de altitud, en la sierra de Guadarrama. Está gestionado  por Patrimonio  Nacional. Conocido\\\n",
    "                también  como Monasterio de  San  Lorenzo  El  Real, o, sencillamente, El  Escorial, fue ideado\\\n",
    "                en la segunda mitad del siglo XVI por el rey Felipe II y su arquitecto Juan Bautista de Toledo,\\\n",
    "                aunque posteriormente intervinieron Juan de Herrera, Juan de Minjares, Giovanni Battista Castello\\\n",
    "                El Bergamasco y Francisco de Mora. El rey  concibió  un  gran  complejo  multifuncional,  monacal\\\n",
    "                y  palaciego  que, plasmado  por  Juan  Bautista  de  Toledo  según  el  paradigma  de  la Traza\\\n",
    "                Universal, dio origen alestilo herreriano.',\n",
    "                'question' : '¿Quién fue el arquitecto?'})"
   ]
  },
  {
   "cell_type": "markdown",
   "id": "be249ccc",
   "metadata": {},
   "source": [
    "\n",
    "• ¿Quién fundó el Monasterio?"
   ]
  },
  {
   "cell_type": "code",
   "execution_count": 5,
   "id": "c080c1cf",
   "metadata": {},
   "outputs": [
    {
     "data": {
      "text/plain": [
       "{'score': 0.07884824275970459,\n",
       " 'start': 667,\n",
       " 'end': 689,\n",
       " 'answer': 'San  Lorenzo  El  Real'}"
      ]
     },
     "execution_count": 5,
     "metadata": {},
     "output_type": "execute_result"
    }
   ],
   "source": [
    "question_answerer({'context' : 'El palacio fue residencia de la familia real española, la basílica es lugar\\\n",
    "                de sepultura de los reyes de España y el monasterio –fundado por monjes de la Orden  de  San\\\n",
    "                Jerónimo– está  ocupado  actualmente  por  frailes  de la Orden de San Agustín. Es una de las\\\n",
    "                más singulares arquitecturas renacentistas de España y de Europa. Situado en San Lorenzo de El\\\n",
    "                Escorial, ocupa una superficie de 33327 m², sobre la ladera meridional del monte Abantos, a 1028m\\\n",
    "                de altitud, en la sierra de Guadarrama. Está gestionado  por Patrimonio  Nacional. Conocido\\\n",
    "                también  como Monasterio de  San  Lorenzo  El  Real, o, sencillamente, El  Escorial, fue ideado\\\n",
    "                en la segunda mitad del siglo XVI por el rey Felipe II y su arquitecto Juan Bautista de Toledo,\\\n",
    "                aunque posteriormente intervinieron Juan de Herrera, Juan de Minjares, Giovanni Battista Castello\\\n",
    "                El Bergamasco y Francisco de Mora. El rey  concibió  un  gran  complejo  multifuncional,  monacal\\\n",
    "                y  palaciego  que, plasmado  por  Juan  Bautista  de  Toledo  según  el  paradigma  de  la Traza\\\n",
    "                Universal, dio origen alestilo herreriano.',\n",
    "                'question' : '¿Quién fundó el Monasterio?'})"
   ]
  },
  {
   "cell_type": "code",
   "execution_count": 10,
   "id": "26939ab6",
   "metadata": {},
   "outputs": [
    {
     "data": {
      "text/plain": [
       "{'score': 0.09518704563379288,\n",
       " 'start': 152,\n",
       " 'end': 207,\n",
       " 'answer': 'por monjes de la Orden  de  San                Jerónimo'}"
      ]
     },
     "execution_count": 10,
     "metadata": {},
     "output_type": "execute_result"
    }
   ],
   "source": [
    "question_answerer({'context' : 'El palacio fue residencia de la familia real española, la basílica es lugar\\\n",
    "                de sepultura de los reyes de España y el monasterio –fundado por monjes de la Orden  de  San\\\n",
    "                Jerónimo– está  ocupado  actualmente  por  frailes  de la Orden de San Agustín. Es una de las\\\n",
    "                más singulares arquitecturas renacentistas de España y de Europa. Situado en San Lorenzo de El\\\n",
    "                Escorial, ocupa una superficie de 33327 m², sobre la ladera meridional del monte Abantos, a 1028m\\\n",
    "                de altitud, en la sierra de Guadarrama. Está gestionado  por Patrimonio  Nacional. Conocido\\\n",
    "                también  como Monasterio de  San  Lorenzo  El  Real, o, sencillamente, El  Escorial, fue ideado\\\n",
    "                en la segunda mitad del siglo XVI por el rey Felipe II y su arquitecto Juan Bautista de Toledo,\\\n",
    "                aunque posteriormente intervinieron Juan de Herrera, Juan de Minjares, Giovanni Battista Castello\\\n",
    "                El Bergamasco y Francisco de Mora. El rey  concibió  un  gran  complejo  multifuncional,  monacal\\\n",
    "                y  palaciego  que, plasmado  por  Juan  Bautista  de  Toledo  según  el  paradigma  de  la Traza\\\n",
    "                Universal, dio origen alestilo herreriano.',\n",
    "                'question' : '¿Por quién fue fundado?'})"
   ]
  },
  {
   "cell_type": "markdown",
   "id": "7bee98d2",
   "metadata": {},
   "source": [
    "• ¿A qué altura está?"
   ]
  },
  {
   "cell_type": "code",
   "execution_count": 6,
   "id": "9c331080",
   "metadata": {},
   "outputs": [
    {
     "data": {
      "text/plain": [
       "{'score': 0.0049301753751933575,\n",
       " 'start': 209,\n",
       " 'end': 222,\n",
       " 'answer': 'está  ocupado'}"
      ]
     },
     "execution_count": 6,
     "metadata": {},
     "output_type": "execute_result"
    }
   ],
   "source": [
    "question_answerer({'context' : 'El palacio fue residencia de la familia real española, la basílica es lugar\\\n",
    "                de sepultura de los reyes de España y el monasterio –fundado por monjes de la Orden  de  San\\\n",
    "                Jerónimo– está  ocupado  actualmente  por  frailes  de la Orden de San Agustín. Es una de las\\\n",
    "                más singulares arquitecturas renacentistas de España y de Europa. Situado en San Lorenzo de El\\\n",
    "                Escorial, ocupa una superficie de 33327 m², sobre la ladera meridional del monte Abantos, a 1028m\\\n",
    "                de altitud, en la sierra de Guadarrama. Está gestionado  por Patrimonio  Nacional. Conocido\\\n",
    "                también  como Monasterio de  San  Lorenzo  El  Real, o, sencillamente, El  Escorial, fue ideado\\\n",
    "                en la segunda mitad del siglo XVI por el rey Felipe II y su arquitecto Juan Bautista de Toledo,\\\n",
    "                aunque posteriormente intervinieron Juan de Herrera, Juan de Minjares, Giovanni Battista Castello\\\n",
    "                El Bergamasco y Francisco de Mora. El rey  concibió  un  gran  complejo  multifuncional,  monacal\\\n",
    "                y  palaciego  que, plasmado  por  Juan  Bautista  de  Toledo  según  el  paradigma  de  la Traza\\\n",
    "                Universal, dio origen alestilo herreriano.',\n",
    "                'question' : '¿A qué altura está?'})"
   ]
  },
  {
   "cell_type": "code",
   "execution_count": 8,
   "id": "d8f67a20",
   "metadata": {},
   "outputs": [
    {
     "data": {
      "text/plain": [
       "{'score': 0.5231849551200867, 'start': 510, 'end': 515, 'answer': '1028m'}"
      ]
     },
     "execution_count": 8,
     "metadata": {},
     "output_type": "execute_result"
    }
   ],
   "source": [
    "question_answerer({'context' : 'El palacio fue residencia de la familia real española, la basílica es lugar\\\n",
    "                de sepultura de los reyes de España y el monasterio –fundado por monjes de la Orden  de  San\\\n",
    "                Jerónimo– está  ocupado  actualmente  por  frailes  de la Orden de San Agustín. Es una de las\\\n",
    "                más singulares arquitecturas renacentistas de España y de Europa. Situado en San Lorenzo de El\\\n",
    "                Escorial, ocupa una superficie de 33327 m², sobre la ladera meridional del monte Abantos, a 1028m\\\n",
    "                de altitud, en la sierra de Guadarrama. Está gestionado  por Patrimonio  Nacional. Conocido\\\n",
    "                también  como Monasterio de  San  Lorenzo  El  Real, o, sencillamente, El  Escorial, fue ideado\\\n",
    "                en la segunda mitad del siglo XVI por el rey Felipe II y su arquitecto Juan Bautista de Toledo,\\\n",
    "                aunque posteriormente intervinieron Juan de Herrera, Juan de Minjares, Giovanni Battista Castello\\\n",
    "                El Bergamasco y Francisco de Mora. El rey  concibió  un  gran  complejo  multifuncional,  monacal\\\n",
    "                y  palaciego  que, plasmado  por  Juan  Bautista  de  Toledo  según  el  paradigma  de  la Traza\\\n",
    "                Universal, dio origen alestilo herreriano.',\n",
    "                'question' : '¿A qué altitud está?'})"
   ]
  },
  {
   "cell_type": "markdown",
   "id": "e177951a",
   "metadata": {},
   "source": [
    "2.8. Realice la siguiente pregunta en inglés:\n",
    "\n",
    "•Who was the architect of the Monastery? "
   ]
  },
  {
   "cell_type": "code",
   "execution_count": 7,
   "id": "9c0534b2",
   "metadata": {},
   "outputs": [
    {
     "data": {
      "text/plain": [
       "{'score': 0.015730496495962143,\n",
       " 'start': 931,\n",
       " 'end': 957,\n",
       " 'answer': 'Giovanni Battista Castello'}"
      ]
     },
     "execution_count": 7,
     "metadata": {},
     "output_type": "execute_result"
    }
   ],
   "source": [
    "question_answerer({'context' : 'El palacio fue residencia de la familia real española, la basílica es lugar\\\n",
    "                de sepultura de los reyes de España y el monasterio –fundado por monjes de la Orden  de  San\\\n",
    "                Jerónimo– está  ocupado  actualmente  por  frailes  de la Orden de San Agustín. Es una de las\\\n",
    "                más singulares arquitecturas renacentistas de España y de Europa. Situado en San Lorenzo de El\\\n",
    "                Escorial, ocupa una superficie de 33327 m², sobre la ladera meridional del monte Abantos, a 1028m\\\n",
    "                de altitud, en la sierra de Guadarrama. Está gestionado  por Patrimonio  Nacional. Conocido\\\n",
    "                también  como Monasterio de  San  Lorenzo  El  Real, o, sencillamente, El  Escorial, fue ideado\\\n",
    "                en la segunda mitad del siglo XVI por el rey Felipe II y su arquitecto Juan Bautista de Toledo,\\\n",
    "                aunque posteriormente intervinieron Juan de Herrera, Juan de Minjares, Giovanni Battista Castello\\\n",
    "                El Bergamasco y Francisco de Mora. El rey  concibió  un  gran  complejo  multifuncional,  monacal\\\n",
    "                y  palaciego  que, plasmado  por  Juan  Bautista  de  Toledo  según  el  paradigma  de  la Traza\\\n",
    "                Universal, dio origen alestilo herreriano.',\n",
    "                'question' : 'Who was the architect of the Monastery?'})"
   ]
  },
  {
   "cell_type": "code",
   "execution_count": 12,
   "id": "3f558944",
   "metadata": {},
   "outputs": [
    {
     "data": {
      "text/plain": [
       "{'score': 0.005528513342142105,\n",
       " 'start': 939,\n",
       " 'end': 1015,\n",
       " 'answer': 'Giovanni Battista Castello                 El Bergamasco y Francisco de Mora'}"
      ]
     },
     "execution_count": 12,
     "metadata": {},
     "output_type": "execute_result"
    }
   ],
   "source": [
    "question_answerer({'context' : 'El palacio fue residencia de la familia real española, la basílica es lugar \\\n",
    "                de sepultura de los reyes de España y el monasterio –fundado por monjes de la Orden  de  San \\\n",
    "                Jerónimo– está  ocupado  actualmente  por  frailes  de la Orden de San Agustín. Es una de las \\\n",
    "                más singulares arquitecturas renacentistas de España y de Europa. Situado en San Lorenzo de El \\\n",
    "                Escorial, ocupa una superficie de 33327 m², sobre la ladera meridional del monte Abantos, a 1028m \\\n",
    "                de altitud, en la sierra de Guadarrama. Está gestionado  por Patrimonio  Nacional. Conocido \\\n",
    "                también  como Monasterio de  San  Lorenzo  El  Real, o, sencillamente, El  Escorial, fue ideado \\\n",
    "                en la segunda mitad del siglo XVI por el rey Felipe II y su arquitecto Juan Bautista de Toledo, \\\n",
    "                aunque posteriormente intervinieron Juan de Herrera, Juan de Minjares, Giovanni Battista Castello \\\n",
    "                El Bergamasco y Francisco de Mora. El rey  concibió  un  gran  complejo  multifuncional,  monacal \\\n",
    "                y  palaciego  que, plasmado  por  Juan  Bautista  de  Toledo  según  el  paradigma  de  la Traza \\\n",
    "                Universal, dio origen alestilo herreriano.',\n",
    "                'question' : 'Who was the architect?'})"
   ]
  },
  {
   "cell_type": "markdown",
   "id": "cef6fd4f",
   "metadata": {},
   "source": [
    "2.9. Comente los resultados obtenidos. Haga referencia a las preguntas en más de un idioma y a la utilización de sinónimos en la pregunta y la respuesta"
   ]
  },
  {
   "cell_type": "markdown",
   "id": "b987fce4",
   "metadata": {},
   "source": [
    "Luego de haber analizado el texto, podemos observar que al utilizar las preguntas propuestas en español y en Inglés no funciona muy bien si no le hacemos preguntas de manera muy específica. Por ejemplo, al hacer la pregunta '¿Quién fundó el Monasterio?' la respuesta que nos brinda el algoritmo es 'San  Lorenzo  El  Real' pero si le preguntamos '¿Por quién fue fundado?' efectivamente nos responde 'por monjes de la Orden  de  San Jerónimo'. Asimismo, sucedió exactamente lo mismo cuando preguntamos sobre la altura del monasterio donde logramos el resultado esperado al preguntar '¿A qué altitud está?' y no '¿A qué altura está?'. \n",
    "\n",
    "Además de estas observaciones, tambien pudimos observar como al preguntarle sobre el arquitecto en español como en Inglés no funciono de la manera esperada ya que contesto, en el primer caso, como arquitecto 'Conocido' y en el segundo por 'Giovanni Battista Castello, El Bergamasco y Francisco de Mora' que fueron intervinientes posteriores a 'Juan Bautista Toledo' que era la respuesta que esperabamos."
   ]
  }
 ],
 "metadata": {
  "kernelspec": {
   "display_name": "Python 3",
   "language": "python",
   "name": "python3"
  },
  "language_info": {
   "codemirror_mode": {
    "name": "ipython",
    "version": 3
   },
   "file_extension": ".py",
   "mimetype": "text/x-python",
   "name": "python",
   "nbconvert_exporter": "python",
   "pygments_lexer": "ipython3",
   "version": "3.8.5"
  },
  "toc": {
   "base_numbering": 1,
   "nav_menu": {},
   "number_sections": true,
   "sideBar": true,
   "skip_h1_title": false,
   "title_cell": "Table of Contents",
   "title_sidebar": "Contents",
   "toc_cell": false,
   "toc_position": {},
   "toc_section_display": true,
   "toc_window_display": false
  }
 },
 "nbformat": 4,
 "nbformat_minor": 5
}
